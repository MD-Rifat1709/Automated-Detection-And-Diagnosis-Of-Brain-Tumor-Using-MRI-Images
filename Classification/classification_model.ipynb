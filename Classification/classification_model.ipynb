{
  "cells": [
    {
      "cell_type": "code",
      "execution_count": 1,
      "metadata": {
        "colab": {
          "base_uri": "https://localhost:8080/"
        },
        "id": "3S9iPIcqsov5",
        "outputId": "3558ad57-6621-40f2-fca3-9c563910071c"
      },
      "outputs": [
        {
          "output_type": "stream",
          "name": "stdout",
          "text": [
            "Drive already mounted at /content/drive/; to attempt to forcibly remount, call drive.mount(\"/content/drive/\", force_remount=True).\n"
          ]
        }
      ],
      "source": [
        "from google.colab import drive\n",
        "drive.mount('/content/drive/')"
      ]
    },
    {
      "cell_type": "code",
      "execution_count": 2,
      "metadata": {
        "id": "YfiQSfHpsqnS"
      },
      "outputs": [],
      "source": [
        "import os\n",
        "import numpy as np\n",
        "import pandas as pd\n",
        "import seaborn as sns\n",
        "import matplotlib.pyplot as plt\n",
        "%matplotlib inline\n",
        "import cv2\n",
        "from tqdm import tqdm\n",
        "from PIL import Image\n",
        "import io\n",
        "\n",
        "import tensorflow as tf\n",
        "from tensorflow.keras.preprocessing.image import ImageDataGenerator\n",
        "from sklearn.utils import shuffle\n",
        "from sklearn.model_selection import train_test_split\n",
        "from tensorflow.keras.applications import EfficientNetB2\n",
        "from keras.layers import GlobalAveragePooling2D, Dropout, Dense\n",
        "from keras.models import Model\n",
        "from tensorflow.keras.callbacks import EarlyStopping, ReduceLROnPlateau, TensorBoard, ModelCheckpoint\n",
        "from sklearn.metrics import classification_report, confusion_matrix\n",
        "from IPython.display import display, clear_output\n",
        "import ipywidgets as widgets"
      ]
    },
    {
      "cell_type": "code",
      "execution_count": 3,
      "metadata": {
        "id": "iHQExJimsRCE"
      },
      "outputs": [],
      "source": [
        "import torch\n",
        "import torch.nn as nn\n",
        "import torch.nn.functional as F\n",
        "from torch.utils.data import DataLoader, Dataset\n",
        "from torchvision import transforms, models\n",
        "from torchvision.utils import make_grid\n",
        "import os\n",
        "import random\n",
        "import numpy as np\n",
        "import pandas as pd\n",
        "import pickle\n",
        "import time\n",
        "import matplotlib.pyplot as plt\n",
        "import seaborn as sns\n",
        "from sklearn.model_selection import train_test_split\n",
        "from sklearn.metrics import confusion_matrix, classification_report\n",
        "from google.colab import drive \n",
        "import imutils"
      ]
    },
    {
      "cell_type": "code",
      "execution_count": 4,
      "metadata": {
        "id": "TfXTojN-sQ3j"
      },
      "outputs": [],
      "source": [
        "import tensorflow as tf\n",
        "from tensorflow import keras\n",
        "from tensorflow.keras import backend as K\n",
        "from tensorflow.keras.layers import Dense, Activation,Dropout,Conv2D, MaxPooling2D,BatchNormalization, Flatten\n",
        "from tensorflow.keras.optimizers import Adam, Adamax\n",
        "from tensorflow.keras.metrics import categorical_crossentropy\n",
        "from tensorflow.keras import regularizers\n",
        "from tensorflow.keras.preprocessing.image import ImageDataGenerator\n",
        "from tensorflow.keras.models import Model, load_model, Sequential\n",
        "from tensorflow.keras.callbacks import EarlyStopping, ReduceLROnPlateau, TensorBoard, ModelCheckpoint\n",
        "import numpy as np\n",
        "import pandas as pd\n",
        "import shutil\n",
        "import time\n",
        "import cv2 as cv2\n",
        "from tqdm import tqdm\n",
        "from sklearn.model_selection import train_test_split\n",
        "import matplotlib.pyplot as plt\n",
        "from matplotlib.pyplot import imshow\n",
        "import os\n",
        "import seaborn as sns\n",
        "sns.set_style('darkgrid')\n",
        "from PIL import Image\n",
        "from sklearn.metrics import confusion_matrix, classification_report\n",
        "from IPython.core.display import display, HTML\n",
        "# stop annoying tensorflow warning messages\n",
        "import logging\n",
        "logging.getLogger(\"tensorflow\").setLevel(logging.ERROR)"
      ]
    },
    {
      "cell_type": "code",
      "source": [
        "def crop_image(image, plot=False):\n",
        "    \n",
        "    #convert to grayscale\n",
        "    img_gray = cv2.cvtColor(image, cv2.COLOR_BGR2GRAY)\n",
        "\n",
        "    #blur\n",
        "    img_gray = cv2.GaussianBlur(img_gray, (5, 5), 0)\n",
        "    \n",
        "    #apply binary threshhold\n",
        "    img_thresh = cv2.threshold(img_gray, 45, 255, cv2.THRESH_BINARY)[1]\n",
        "\n",
        "    #apply erosion\n",
        "    img_thresh = cv2.erode(img_thresh, None, iterations=2)\n",
        "\n",
        "    #dilate images\n",
        "    img_thresh = cv2.dilate(img_thresh, None, iterations=2)\n",
        "\n",
        "    #find shapes or the contour of images\n",
        "    contours = cv2.findContours(img_thresh.copy(), cv2.RETR_EXTERNAL, cv2.CHAIN_APPROX_SIMPLE)\n",
        "\n",
        "    #grab contours\n",
        "    contours = imutils.grab_contours(contours)\n",
        "\n",
        "    #find biggest contour\n",
        "    c = max(contours, key=cv2.contourArea)\n",
        "\n",
        "    #extract contour positions\n",
        "    extLeft = tuple(c[c[:, :, 0].argmin()][0])\n",
        "    extRight = tuple(c[c[:, :, 0].argmax()][0])\n",
        "    extTop = tuple(c[c[:, :, 1].argmin()][0])\n",
        "    extBot = tuple(c[c[:, :, 1].argmax()][0])\n",
        "    \n",
        "    #generate new image\n",
        "    new_image = image[extTop[1]:extBot[1], extLeft[0]:extRight[0]]            \n",
        "\n",
        "    #plot\n",
        "    if plot:\n",
        "        plt.figure(figsize=(15, 6))\n",
        "        plt.subplot(1, 2, 1)\n",
        "        plt.imshow(image)\n",
        "        plt.tick_params(axis='both', which='both', top=False, bottom=False, left=False, right=False,labelbottom=False, labeltop=False, labelleft=False, labelright=False)\n",
        "        plt.title('Original Image')\n",
        "        plt.subplot(1, 2, 2)\n",
        "        plt.imshow(new_image)\n",
        "        plt.tick_params(axis='both', which='both',top=False, bottom=False, left=False, right=False,labelbottom=False, labeltop=False, labelleft=False, labelright=False)\n",
        "        plt.title('Cropped Image')\n",
        "        plt.show()\n",
        "    \n",
        "    return new_image\n"
      ],
      "metadata": {
        "id": "SHEVmVw7SY0G"
      },
      "execution_count": 5,
      "outputs": []
    },
    {
      "cell_type": "code",
      "source": [
        "def rotate(image, angle):\n",
        "  height, width = image.shape[:2]\n",
        "  center = (width/2, height/2)\n",
        "  rotate_matrix = cv2.getRotationMatrix2D(center=center, angle=angle, scale=1)\n",
        "  rotated_image = cv2.warpAffine(src=image, M=rotate_matrix, dsize=(width, height))\n",
        "  return rotated_image"
      ],
      "metadata": {
        "id": "mRU3MSJk5bQz"
      },
      "execution_count": 6,
      "outputs": []
    },
    {
      "cell_type": "code",
      "execution_count": 7,
      "metadata": {
        "colab": {
          "base_uri": "https://localhost:8080/"
        },
        "id": "ml6mzFMrtLhz",
        "outputId": "8bf9e8fd-0e13-47de-a2d0-7f50458f4237"
      },
      "outputs": [
        {
          "output_type": "stream",
          "name": "stderr",
          "text": [
            "100%|██████████| 708/708 [00:17<00:00, 40.90it/s]\n"
          ]
        }
      ],
      "source": [
        "labels = ['meningioma_tumor', 'glioma_tumor', 'pituitary_tumor','no_tumor']\n",
        "X1 = []\n",
        "y1  = []\n",
        "image_size=150\n",
        "trainPath = os.path.join('/content/drive/MyDrive/brain-tumor/','meningioma_tumor')\n",
        "for file in tqdm(os.listdir(trainPath)):\n",
        "    image = cv2.imread(os.path.join(trainPath, file))\n",
        "    image = crop_image(image, plot=False)\n",
        "    image = cv2.resize(image, (image_size, image_size))\n",
        "    X1.append(image)\n",
        "    y1.append('meningioma_tumor')\n",
        "    \n",
        "X1 = np.array(X1)"
      ]
    },
    {
      "cell_type": "code",
      "execution_count": 8,
      "metadata": {
        "colab": {
          "base_uri": "https://localhost:8080/"
        },
        "id": "o1igEFCbpYDE",
        "outputId": "12667e82-fc45-4f09-98ec-5da55092e494"
      },
      "outputs": [
        {
          "output_type": "execute_result",
          "data": {
            "text/plain": [
              "(708, 150, 150, 3)"
            ]
          },
          "metadata": {},
          "execution_count": 8
        }
      ],
      "source": [
        "X1.shape"
      ]
    },
    {
      "cell_type": "code",
      "execution_count": 9,
      "metadata": {
        "colab": {
          "base_uri": "https://localhost:8080/"
        },
        "id": "dV5TtVLswZtL",
        "outputId": "f64d2440-fe97-4bc1-d2a9-237d1c67ef56"
      },
      "outputs": [
        {
          "output_type": "stream",
          "name": "stderr",
          "text": [
            "100%|██████████| 1426/1426 [00:22<00:00, 62.79it/s]\n"
          ]
        }
      ],
      "source": [
        "labels = ['meningioma_tumor', 'glioma_tumor', 'pituitary_tumor','no_tumor']\n",
        "X2 = []\n",
        "y2  = []\n",
        "image_size=150\n",
        "trainPath = os.path.join('/content/drive/MyDrive/brain-tumor/','glioma_tumor')\n",
        "for file in tqdm(os.listdir(trainPath)):\n",
        "    image = cv2.imread(os.path.join(trainPath, file))\n",
        "    image = crop_image(image, plot=False)\n",
        "    image = cv2.resize(image, (image_size, image_size))\n",
        "    X2.append(image)\n",
        "    y2.append('glioma_tumor')\n",
        "    \n",
        "X2 = np.array(X2)"
      ]
    },
    {
      "cell_type": "code",
      "execution_count": 10,
      "metadata": {
        "colab": {
          "base_uri": "https://localhost:8080/"
        },
        "id": "HGyrASn3t6lc",
        "outputId": "190ed292-3481-49b8-82ab-8c4843449236"
      },
      "outputs": [
        {
          "output_type": "execute_result",
          "data": {
            "text/plain": [
              "(1426, 150, 150, 3)"
            ]
          },
          "metadata": {},
          "execution_count": 10
        }
      ],
      "source": [
        "X2.shape"
      ]
    },
    {
      "cell_type": "code",
      "execution_count": 11,
      "metadata": {
        "colab": {
          "base_uri": "https://localhost:8080/"
        },
        "id": "8xLJdktTwgO6",
        "outputId": "d8dbc05f-3dd0-4f3f-bff1-8a69aac04425"
      },
      "outputs": [
        {
          "output_type": "stream",
          "name": "stderr",
          "text": [
            "100%|██████████| 930/930 [00:14<00:00, 62.83it/s]\n"
          ]
        }
      ],
      "source": [
        "labels = ['meningioma_tumor', 'glioma_tumor', 'pituitary_tumor','no_tumor']\n",
        "X3 = []\n",
        "y3  = []\n",
        "image_size=150\n",
        "trainPath = os.path.join('/content/drive/MyDrive/brain-tumor/','pituitary_tumor')\n",
        "for file in tqdm(os.listdir(trainPath)):\n",
        "    image = cv2.imread(os.path.join(trainPath, file))\n",
        "    image = crop_image(image, plot=False)\n",
        "    image = cv2.resize(image, (image_size, image_size))\n",
        "    X3.append(image)\n",
        "    y3.append('pituitary_tumor')\n",
        "    \n",
        "X3 = np.array(X3)"
      ]
    },
    {
      "cell_type": "code",
      "source": [
        "X3.shape"
      ],
      "metadata": {
        "colab": {
          "base_uri": "https://localhost:8080/"
        },
        "id": "IQzFq3_hZha8",
        "outputId": "ed6479df-96de-4c3c-fd5d-4af2ca4c8184"
      },
      "execution_count": 12,
      "outputs": [
        {
          "output_type": "execute_result",
          "data": {
            "text/plain": [
              "(930, 150, 150, 3)"
            ]
          },
          "metadata": {},
          "execution_count": 12
        }
      ]
    },
    {
      "cell_type": "code",
      "source": [
        "labels = ['meningioma_tumor', 'glioma_tumor', 'pituitary_tumor','no_tumor']\n",
        "X4 = []\n",
        "y4  = []\n",
        "image_size=150\n",
        "trainPath = os.path.join('/content/drive/MyDrive/brain-tumor/','no_tumor')\n",
        "for file in tqdm(os.listdir(trainPath)):\n",
        "    image = cv2.imread(os.path.join(trainPath, file))\n",
        "    image = crop_image(image, plot=False)\n",
        "    image = cv2.resize(image, (image_size, image_size))\n",
        "    X4.append(image)\n",
        "    y4.append('no_tumor')\n",
        "    \n",
        "X4 = np.array(X4)"
      ],
      "metadata": {
        "id": "h6CrNUgARLhm",
        "colab": {
          "base_uri": "https://localhost:8080/"
        },
        "outputId": "d85d9581-6ab9-418d-b66c-6c147139e388"
      },
      "execution_count": 13,
      "outputs": [
        {
          "output_type": "stream",
          "name": "stderr",
          "text": [
            "100%|██████████| 501/501 [00:05<00:00, 88.88it/s] \n"
          ]
        }
      ]
    },
    {
      "cell_type": "code",
      "source": [
        "X4.shape"
      ],
      "metadata": {
        "id": "3tcGuUe1RPyq",
        "colab": {
          "base_uri": "https://localhost:8080/"
        },
        "outputId": "10fa136e-1df9-4ee1-e6fa-36718e4b428a"
      },
      "execution_count": 14,
      "outputs": [
        {
          "output_type": "execute_result",
          "data": {
            "text/plain": [
              "(501, 150, 150, 3)"
            ]
          },
          "metadata": {},
          "execution_count": 14
        }
      ]
    },
    {
      "cell_type": "code",
      "execution_count": 15,
      "metadata": {
        "colab": {
          "base_uri": "https://localhost:8080/"
        },
        "id": "K-Uf-AyRzvXZ",
        "outputId": "3bba992c-803f-4949-cdf2-4585cb37c644"
      },
      "outputs": [
        {
          "output_type": "stream",
          "name": "stderr",
          "text": [
            "100%|██████████| 708/708 [00:09<00:00, 72.98it/s]\n"
          ]
        }
      ],
      "source": [
        "labels = ['meningioma_tumor', 'glioma_tumor', 'pituitary_tumor','no_tumor']\n",
        "X11 = []\n",
        "y11  = []\n",
        "image_size=150\n",
        "trainPath = os.path.join('/content/drive/MyDrive/brain-tumor/','meningioma_tumor')\n",
        "for file in tqdm(os.listdir(trainPath)):\n",
        "  image = cv2.imread(os.path.join(trainPath, file))\n",
        "  image = crop_image(image, plot=False)\n",
        "  image = cv2.resize(image, (image_size, image_size))\n",
        "  image = rotate(image, 5)\n",
        "  X11.append(image)\n",
        "  y11.append('meningioma_tumor')\n",
        "    \n",
        "X11 = np.array(X11)"
      ]
    },
    {
      "cell_type": "code",
      "source": [
        "labels = ['meningioma_tumor', 'glioma_tumor', 'pituitary_tumor','no_tumor']\n",
        "X12 = []\n",
        "y12  = []\n",
        "image_size=150\n",
        "trainPath = os.path.join('/content/drive/MyDrive/brain-tumor/','meningioma_tumor')\n",
        "for file in tqdm(os.listdir(trainPath)):\n",
        "  image = cv2.imread(os.path.join(trainPath, file))\n",
        "  image = crop_image(image, plot=False)\n",
        "  image = cv2.resize(image, (image_size, image_size))\n",
        "  image = rotate(image, -5)\n",
        "  X12.append(image)\n",
        "  y12.append('meningioma_tumor')\n",
        "    \n",
        "X12 = np.array(X12)"
      ],
      "metadata": {
        "colab": {
          "base_uri": "https://localhost:8080/"
        },
        "id": "ZWwDSDltZ2E6",
        "outputId": "48166a18-81c8-4ca3-e9fd-e3eae6cd42fa"
      },
      "execution_count": 16,
      "outputs": [
        {
          "output_type": "stream",
          "name": "stderr",
          "text": [
            "100%|██████████| 708/708 [00:09<00:00, 72.18it/s]\n"
          ]
        }
      ]
    },
    {
      "cell_type": "code",
      "source": [
        "labels = ['meningioma_tumor', 'glioma_tumor', 'pituitary_tumor','no_tumor']\n",
        "X13 = []\n",
        "y13  = []\n",
        "image_size=150\n",
        "trainPath = os.path.join('/content/drive/MyDrive/brain-tumor/','meningioma_tumor')\n",
        "for file in tqdm(os.listdir(trainPath)):\n",
        "  image = cv2.imread(os.path.join(trainPath, file))\n",
        "  image = crop_image(image, plot=False)\n",
        "  image = cv2.resize(image, (image_size, image_size))\n",
        "  image = rotate(image, 6)\n",
        "  X13.append(image)\n",
        "  y13.append('meningioma_tumor')\n",
        "    \n",
        "X13 = np.array(X13)"
      ],
      "metadata": {
        "colab": {
          "base_uri": "https://localhost:8080/"
        },
        "id": "sHRt0iscZ9ee",
        "outputId": "7f0131a8-048c-4639-c0e3-16a4770503c5"
      },
      "execution_count": 17,
      "outputs": [
        {
          "output_type": "stream",
          "name": "stderr",
          "text": [
            "100%|██████████| 708/708 [00:09<00:00, 73.05it/s]\n"
          ]
        }
      ]
    },
    {
      "cell_type": "code",
      "source": [
        "labels = ['meningioma_tumor', 'glioma_tumor', 'pituitary_tumor','no_tumor']\n",
        "X21 = []\n",
        "y21  = []\n",
        "image_size=150\n",
        "trainPath = os.path.join('/content/drive/MyDrive/brain-tumor/','glioma_tumor')\n",
        "for file in tqdm(os.listdir(trainPath)):\n",
        "  image = cv2.imread(os.path.join(trainPath, file))\n",
        "  image = crop_image(image, plot=False)\n",
        "  image = cv2.resize(image, (image_size, image_size))\n",
        "  image = rotate(image, 5)\n",
        "  X21.append(image)\n",
        "  y21.append('glioma_tumor')\n",
        "    \n",
        "X21 = np.array(X21)"
      ],
      "metadata": {
        "colab": {
          "base_uri": "https://localhost:8080/"
        },
        "id": "PpHVqHh7VM4o",
        "outputId": "0357a295-5bcb-43ac-a454-704373735e20"
      },
      "execution_count": 18,
      "outputs": [
        {
          "output_type": "stream",
          "name": "stderr",
          "text": [
            "100%|██████████| 1426/1426 [00:19<00:00, 71.86it/s]\n"
          ]
        }
      ]
    },
    {
      "cell_type": "code",
      "execution_count": 19,
      "metadata": {
        "colab": {
          "base_uri": "https://localhost:8080/"
        },
        "id": "klQ77VIB50gf",
        "outputId": "17ec3268-cafa-49f9-8f2b-360c97c939ba"
      },
      "outputs": [
        {
          "output_type": "stream",
          "name": "stderr",
          "text": [
            "100%|██████████| 930/930 [00:13<00:00, 69.29it/s]\n"
          ]
        }
      ],
      "source": [
        "labels = ['meningioma_tumor', 'glioma_tumor', 'pituitary_tumor','no_tumor']\n",
        "X31 = []\n",
        "y31  = []\n",
        "image_size=150\n",
        "trainPath = os.path.join('/content/drive/MyDrive/brain-tumor/','pituitary_tumor')\n",
        "for file in tqdm(os.listdir(trainPath)):\n",
        "  image = cv2.imread(os.path.join(trainPath, file))\n",
        "  image = crop_image(image, plot=False)\n",
        "  image = cv2.resize(image, (image_size, image_size))\n",
        "  image = rotate(image, 5)\n",
        "  X31.append(image)\n",
        "  y31.append('pituitary_tumor')\n",
        "    \n",
        "X31 = np.array(X31)"
      ]
    },
    {
      "cell_type": "code",
      "source": [
        "labels = ['meningioma_tumor', 'glioma_tumor', 'pituitary_tumor','no_tumor']\n",
        "X32 = []\n",
        "y32  = []\n",
        "image_size=150\n",
        "trainPath = os.path.join('/content/drive/MyDrive/brain-tumor/','pituitary_tumor')\n",
        "for file in tqdm(os.listdir(trainPath)):\n",
        "  image = cv2.imread(os.path.join(trainPath, file))\n",
        "  image = crop_image(image, plot=False)\n",
        "  image = cv2.resize(image, (image_size, image_size))\n",
        "  image = rotate(image, -5)\n",
        "  X32.append(image)\n",
        "  y32.append('pituitary_tumor')\n",
        "    \n",
        "X32 = np.array(X32)"
      ],
      "metadata": {
        "colab": {
          "base_uri": "https://localhost:8080/"
        },
        "id": "d1QRPm6AaZ0Q",
        "outputId": "8a90d0c6-1c5f-4de5-b12f-9396744bc87b"
      },
      "execution_count": 20,
      "outputs": [
        {
          "output_type": "stream",
          "name": "stderr",
          "text": [
            "100%|██████████| 930/930 [00:12<00:00, 71.91it/s]\n"
          ]
        }
      ]
    },
    {
      "cell_type": "code",
      "source": [
        "labels = ['meningioma_tumor', 'glioma_tumor', 'pituitary_tumor','no_tumor']\n",
        "X41 = []\n",
        "y41  = []\n",
        "image_size=150\n",
        "trainPath = os.path.join('/content/drive/MyDrive/brain-tumor/','no_tumor')\n",
        "for file in tqdm(os.listdir(trainPath)):\n",
        "  image = cv2.imread(os.path.join(trainPath, file))\n",
        "  image = crop_image(image, plot=False)\n",
        "  image = cv2.resize(image, (image_size, image_size))\n",
        "  image = rotate(image, 5)\n",
        "  X41.append(image)\n",
        "  y41.append('no_tumor')\n",
        "    \n",
        "X41 = np.array(X41)"
      ],
      "metadata": {
        "id": "mnhCX8RcRUOl",
        "colab": {
          "base_uri": "https://localhost:8080/"
        },
        "outputId": "671dde4c-1ff4-458c-b6f1-03eac4bd7b88"
      },
      "execution_count": 21,
      "outputs": [
        {
          "output_type": "stream",
          "name": "stderr",
          "text": [
            "100%|██████████| 501/501 [00:04<00:00, 103.62it/s]\n"
          ]
        }
      ]
    },
    {
      "cell_type": "code",
      "source": [
        "labels = ['meningioma_tumor', 'glioma_tumor', 'pituitary_tumor','no_tumor']\n",
        "X42 = []\n",
        "y42  = []\n",
        "image_size=150\n",
        "trainPath = os.path.join('/content/drive/MyDrive/brain-tumor/','no_tumor')\n",
        "for file in tqdm(os.listdir(trainPath)):\n",
        "  image = cv2.imread(os.path.join(trainPath, file))\n",
        "  image = crop_image(image, plot=False)\n",
        "  image = cv2.resize(image, (image_size, image_size))\n",
        "  image = rotate(image, -5)\n",
        "  X42.append(image)\n",
        "  y42.append('no_tumor')\n",
        "    \n",
        "X42 = np.array(X42)"
      ],
      "metadata": {
        "id": "U5egQP9eRYvZ",
        "colab": {
          "base_uri": "https://localhost:8080/"
        },
        "outputId": "2ad2c765-f795-459e-f7ad-ab7b531dadb1"
      },
      "execution_count": 22,
      "outputs": [
        {
          "output_type": "stream",
          "name": "stderr",
          "text": [
            "100%|██████████| 501/501 [00:04<00:00, 101.89it/s]\n"
          ]
        }
      ]
    },
    {
      "cell_type": "code",
      "source": [
        "labels = ['meningioma_tumor', 'glioma_tumor', 'pituitary_tumor','no_tumor']\n",
        "X43 = []\n",
        "y43  = []\n",
        "image_size=150\n",
        "trainPath = os.path.join('/content/drive/MyDrive/brain-tumor/','no_tumor')\n",
        "for file in tqdm(os.listdir(trainPath)):\n",
        "  image = cv2.imread(os.path.join(trainPath, file))\n",
        "  image = crop_image(image, plot=False)\n",
        "  image = cv2.resize(image, (image_size, image_size))\n",
        "  image = rotate(image, 6)\n",
        "  X43.append(image)\n",
        "  y43.append('no_tumor')\n",
        "    \n",
        "X43 = np.array(X43)"
      ],
      "metadata": {
        "id": "IFXGTvrZRX-_",
        "colab": {
          "base_uri": "https://localhost:8080/"
        },
        "outputId": "7cdb3b5d-99a2-46c3-ac14-1eb9e2418d29"
      },
      "execution_count": 23,
      "outputs": [
        {
          "output_type": "stream",
          "name": "stderr",
          "text": [
            "100%|██████████| 501/501 [00:04<00:00, 103.72it/s]\n"
          ]
        }
      ]
    },
    {
      "cell_type": "code",
      "source": [
        "labels = ['meningioma_tumor', 'glioma_tumor', 'pituitary_tumor','no_tumor']\n",
        "X44 = []\n",
        "y44  = []\n",
        "image_size=150\n",
        "trainPath = os.path.join('/content/drive/MyDrive/brain-tumor/','no_tumor')\n",
        "for file in tqdm(os.listdir(trainPath)):\n",
        "  image = cv2.imread(os.path.join(trainPath, file))\n",
        "  image = crop_image(image, plot=False)\n",
        "  image = cv2.resize(image, (image_size, image_size))\n",
        "  image = rotate(image, -6)\n",
        "  X44.append(image)\n",
        "  y44.append('no_tumor')\n",
        "    \n",
        "X44 = np.array(X44)"
      ],
      "metadata": {
        "id": "cuLyNlM8RX37",
        "colab": {
          "base_uri": "https://localhost:8080/"
        },
        "outputId": "e455c510-a5a6-4cf1-905c-43636a998d51"
      },
      "execution_count": 24,
      "outputs": [
        {
          "output_type": "stream",
          "name": "stderr",
          "text": [
            "100%|██████████| 501/501 [00:04<00:00, 104.55it/s]\n"
          ]
        }
      ]
    },
    {
      "cell_type": "code",
      "execution_count": 25,
      "metadata": {
        "colab": {
          "base_uri": "https://localhost:8080/"
        },
        "id": "3ngfLPTI5X5X",
        "outputId": "7212c9b8-1f39-480a-f28c-466d14e3ac5d"
      },
      "outputs": [
        {
          "output_type": "execute_result",
          "data": {
            "text/plain": [
              "(2832, 150, 150, 3)"
            ]
          },
          "metadata": {},
          "execution_count": 25
        }
      ],
      "source": [
        "X_meningioma = np.concatenate((X1, X11, X12, X13), axis=0)\n",
        "X_meningioma.shape"
      ]
    },
    {
      "cell_type": "code",
      "execution_count": 26,
      "metadata": {
        "colab": {
          "base_uri": "https://localhost:8080/"
        },
        "id": "NX64wg8M5-Ad",
        "outputId": "ddeef3ce-d7ff-4752-a3b8-b7b63eed63b1"
      },
      "outputs": [
        {
          "output_type": "execute_result",
          "data": {
            "text/plain": [
              "(2790, 150, 150, 3)"
            ]
          },
          "metadata": {},
          "execution_count": 26
        }
      ],
      "source": [
        "X_pituitary = np.concatenate((X3, X31, X32), axis=0)\n",
        "X_pituitary.shape"
      ]
    },
    {
      "cell_type": "code",
      "execution_count": 27,
      "metadata": {
        "colab": {
          "base_uri": "https://localhost:8080/"
        },
        "id": "eYFSVSrY6DFg",
        "outputId": "5067a37c-9cfc-466e-c703-253072928943"
      },
      "outputs": [
        {
          "output_type": "execute_result",
          "data": {
            "text/plain": [
              "(2852, 150, 150, 3)"
            ]
          },
          "metadata": {},
          "execution_count": 27
        }
      ],
      "source": [
        "X_glioma = np.concatenate((X2, X21), axis=0)\n",
        "X_glioma.shape"
      ]
    },
    {
      "cell_type": "code",
      "source": [
        "X_notumor = np.concatenate((X4, X41, X42, X43, X44), axis=0)\n",
        "X_notumor.shape"
      ],
      "metadata": {
        "id": "UVVknuQ8R_2o",
        "colab": {
          "base_uri": "https://localhost:8080/"
        },
        "outputId": "ace38365-3edf-442a-cebe-7fc4aeb61e67"
      },
      "execution_count": 28,
      "outputs": [
        {
          "output_type": "execute_result",
          "data": {
            "text/plain": [
              "(2505, 150, 150, 3)"
            ]
          },
          "metadata": {},
          "execution_count": 28
        }
      ]
    },
    {
      "cell_type": "code",
      "execution_count": 29,
      "metadata": {
        "colab": {
          "base_uri": "https://localhost:8080/"
        },
        "id": "IWqTAkaQ6JrW",
        "outputId": "0e1743ed-cbe6-4ea8-8c48-b2c649b74978"
      },
      "outputs": [
        {
          "output_type": "execute_result",
          "data": {
            "text/plain": [
              "(2832,)"
            ]
          },
          "metadata": {},
          "execution_count": 29
        }
      ],
      "source": [
        "y_meningioma = np.concatenate((y1, y11, y12, y13), axis=0)\n",
        "y_meningioma.shape"
      ]
    },
    {
      "cell_type": "code",
      "execution_count": 30,
      "metadata": {
        "colab": {
          "base_uri": "https://localhost:8080/"
        },
        "id": "_-jmY_aJ6Jn7",
        "outputId": "0fddf4a7-3f0a-44cb-c186-fa53d9f958d1"
      },
      "outputs": [
        {
          "output_type": "execute_result",
          "data": {
            "text/plain": [
              "(2790,)"
            ]
          },
          "metadata": {},
          "execution_count": 30
        }
      ],
      "source": [
        "y_pituitary = np.concatenate((y3, y31, y32), axis=0)\n",
        "y_pituitary.shape"
      ]
    },
    {
      "cell_type": "code",
      "execution_count": 31,
      "metadata": {
        "colab": {
          "base_uri": "https://localhost:8080/"
        },
        "id": "qqElBuQu6Jll",
        "outputId": "eb3db145-639b-43d3-fdfd-7341fa51f408"
      },
      "outputs": [
        {
          "output_type": "execute_result",
          "data": {
            "text/plain": [
              "(2852,)"
            ]
          },
          "metadata": {},
          "execution_count": 31
        }
      ],
      "source": [
        "y_glioma = np.concatenate((y2, y21), axis=0)\n",
        "y_glioma.shape"
      ]
    },
    {
      "cell_type": "code",
      "source": [
        "y_notumor = np.concatenate((y4, y41, y42, y43, y44), axis=0)\n",
        "y_notumor.shape"
      ],
      "metadata": {
        "id": "o96mo2UhSMg1",
        "colab": {
          "base_uri": "https://localhost:8080/"
        },
        "outputId": "5b6a6a14-00ca-4a75-ce9f-7ec8bedf32e2"
      },
      "execution_count": 32,
      "outputs": [
        {
          "output_type": "execute_result",
          "data": {
            "text/plain": [
              "(2505,)"
            ]
          },
          "metadata": {},
          "execution_count": 32
        }
      ]
    },
    {
      "cell_type": "code",
      "execution_count": 33,
      "metadata": {
        "id": "mU3GaUvI6kX7"
      },
      "outputs": [],
      "source": [
        "X_train = np.concatenate((X_meningioma, X_glioma, X_pituitary, X_notumor), axis=0)\n",
        "y_train = np.concatenate((y_meningioma, y_glioma, y_pituitary, y_notumor), axis=0)"
      ]
    },
    {
      "cell_type": "code",
      "execution_count": 34,
      "metadata": {
        "colab": {
          "base_uri": "https://localhost:8080/"
        },
        "id": "TN8sA5lM9lCS",
        "outputId": "d134a37c-033e-4a56-914a-dada3eb21258"
      },
      "outputs": [
        {
          "output_type": "execute_result",
          "data": {
            "text/plain": [
              "(10979, 150, 150, 3)"
            ]
          },
          "metadata": {},
          "execution_count": 34
        }
      ],
      "source": [
        "X_train.shape"
      ]
    },
    {
      "cell_type": "code",
      "execution_count": 35,
      "metadata": {
        "colab": {
          "base_uri": "https://localhost:8080/"
        },
        "id": "M4xOpxwd9nnm",
        "outputId": "3c03a22c-8d14-4c8f-977f-c61342206c87"
      },
      "outputs": [
        {
          "output_type": "execute_result",
          "data": {
            "text/plain": [
              "(10979,)"
            ]
          },
          "metadata": {},
          "execution_count": 35
        }
      ],
      "source": [
        "y_train.shape"
      ]
    },
    {
      "cell_type": "code",
      "execution_count": 36,
      "metadata": {
        "id": "7HXYprhM689Y"
      },
      "outputs": [],
      "source": [
        "X_train, y_train = shuffle(X_train, y_train, random_state=28)"
      ]
    },
    {
      "cell_type": "code",
      "execution_count": 37,
      "metadata": {
        "id": "933e6a1a"
      },
      "outputs": [],
      "source": [
        "#base_model = EfficientNetB2(weights='imagenet', include_top=False, input_shape=(image_size, image_size, 3))"
      ]
    },
    {
      "cell_type": "markdown",
      "metadata": {
        "id": "dcc71c33"
      },
      "source": [
        "## Transfer Learning with EfficientNetB3\n"
      ]
    },
    {
      "cell_type": "markdown",
      "metadata": {
        "id": "4143f258"
      },
      "source": [
        "## Define Callbacks"
      ]
    },
    {
      "cell_type": "code",
      "source": [
        "y_train_ = []\n",
        "for i in y_train:\n",
        "    y_train_.append(labels.index(i))\n",
        "y_train = y_train_\n",
        "\n",
        "y_train = tf.keras.utils.to_categorical(y_train)"
      ],
      "metadata": {
        "id": "5udCY8HxlE5p"
      },
      "execution_count": 38,
      "outputs": []
    },
    {
      "cell_type": "code",
      "execution_count": 39,
      "metadata": {
        "id": "jQt2Yxt37IEo"
      },
      "outputs": [],
      "source": [
        "X_train, X_dum, y_train, y_dum = train_test_split(X_train, y_train, test_size=0.2, random_state=28)"
      ]
    },
    {
      "cell_type": "code",
      "source": [
        "X_test, X_val, y_test, y_val = train_test_split(X_dum, y_dum, test_size=0.5)"
      ],
      "metadata": {
        "id": "_rB9_ZyGqsY3"
      },
      "execution_count": 40,
      "outputs": []
    },
    {
      "cell_type": "code",
      "source": [
        "#y_test_ = []\n",
        "#for i in y_test:\n",
        "#    y_test_.append(labels.index(i))\n",
        "#y_test = y_test_\n",
        "\n",
        "#y_test = tf.keras.utils.to_categorical(y_test)"
      ],
      "metadata": {
        "id": "b62bBeXJXlLg"
      },
      "execution_count": 41,
      "outputs": []
    },
    {
      "cell_type": "markdown",
      "metadata": {
        "id": "8f8efe7e"
      },
      "source": [
        "## Data Augmentation"
      ]
    },
    {
      "cell_type": "code",
      "execution_count": 42,
      "metadata": {
        "id": "39ed699c"
      },
      "outputs": [],
      "source": [
        "datagen = ImageDataGenerator()\n",
        "\n",
        "datagen.fit(X_train)"
      ]
    },
    {
      "cell_type": "markdown",
      "metadata": {
        "id": "f469934f"
      },
      "source": [
        "## Train Model"
      ]
    },
    {
      "cell_type": "code",
      "source": [
        "base_model = EfficientNetB2(weights='imagenet', include_top=False, input_shape=(150, 150, 3))"
      ],
      "metadata": {
        "id": "d6bgNUZb9Fuf"
      },
      "execution_count": 43,
      "outputs": []
    },
    {
      "cell_type": "code",
      "source": [
        "model = base_model.output\n",
        "model = GlobalAveragePooling2D()(model)\n",
        "model = Dense(4, activation='softmax')(model)\n",
        "model = Model(inputs = base_model.input, outputs=model)"
      ],
      "metadata": {
        "id": "HF38L6RX9nMC"
      },
      "execution_count": 44,
      "outputs": []
    },
    {
      "cell_type": "code",
      "source": [
        "model.compile(loss='categorical_crossentropy', optimizer='Adam', metrics=['accuracy'])\n",
        "model.summary()"
      ],
      "metadata": {
        "id": "eIZcgXOV9Fmn",
        "colab": {
          "base_uri": "https://localhost:8080/"
        },
        "outputId": "2f88507d-7c7f-4bd5-924d-f233b96376fa"
      },
      "execution_count": 45,
      "outputs": [
        {
          "output_type": "stream",
          "name": "stdout",
          "text": [
            "Model: \"model\"\n",
            "__________________________________________________________________________________________________\n",
            " Layer (type)                   Output Shape         Param #     Connected to                     \n",
            "==================================================================================================\n",
            " input_1 (InputLayer)           [(None, 150, 150, 3  0           []                               \n",
            "                                )]                                                                \n",
            "                                                                                                  \n",
            " rescaling (Rescaling)          (None, 150, 150, 3)  0           ['input_1[0][0]']                \n",
            "                                                                                                  \n",
            " normalization (Normalization)  (None, 150, 150, 3)  7           ['rescaling[0][0]']              \n",
            "                                                                                                  \n",
            " stem_conv_pad (ZeroPadding2D)  (None, 151, 151, 3)  0           ['normalization[0][0]']          \n",
            "                                                                                                  \n",
            " stem_conv (Conv2D)             (None, 75, 75, 32)   864         ['stem_conv_pad[0][0]']          \n",
            "                                                                                                  \n",
            " stem_bn (BatchNormalization)   (None, 75, 75, 32)   128         ['stem_conv[0][0]']              \n",
            "                                                                                                  \n",
            " stem_activation (Activation)   (None, 75, 75, 32)   0           ['stem_bn[0][0]']                \n",
            "                                                                                                  \n",
            " block1a_dwconv (DepthwiseConv2  (None, 75, 75, 32)  288         ['stem_activation[0][0]']        \n",
            " D)                                                                                               \n",
            "                                                                                                  \n",
            " block1a_bn (BatchNormalization  (None, 75, 75, 32)  128         ['block1a_dwconv[0][0]']         \n",
            " )                                                                                                \n",
            "                                                                                                  \n",
            " block1a_activation (Activation  (None, 75, 75, 32)  0           ['block1a_bn[0][0]']             \n",
            " )                                                                                                \n",
            "                                                                                                  \n",
            " block1a_se_squeeze (GlobalAver  (None, 32)          0           ['block1a_activation[0][0]']     \n",
            " agePooling2D)                                                                                    \n",
            "                                                                                                  \n",
            " block1a_se_reshape (Reshape)   (None, 1, 1, 32)     0           ['block1a_se_squeeze[0][0]']     \n",
            "                                                                                                  \n",
            " block1a_se_reduce (Conv2D)     (None, 1, 1, 8)      264         ['block1a_se_reshape[0][0]']     \n",
            "                                                                                                  \n",
            " block1a_se_expand (Conv2D)     (None, 1, 1, 32)     288         ['block1a_se_reduce[0][0]']      \n",
            "                                                                                                  \n",
            " block1a_se_excite (Multiply)   (None, 75, 75, 32)   0           ['block1a_activation[0][0]',     \n",
            "                                                                  'block1a_se_expand[0][0]']      \n",
            "                                                                                                  \n",
            " block1a_project_conv (Conv2D)  (None, 75, 75, 16)   512         ['block1a_se_excite[0][0]']      \n",
            "                                                                                                  \n",
            " block1a_project_bn (BatchNorma  (None, 75, 75, 16)  64          ['block1a_project_conv[0][0]']   \n",
            " lization)                                                                                        \n",
            "                                                                                                  \n",
            " block1b_dwconv (DepthwiseConv2  (None, 75, 75, 16)  144         ['block1a_project_bn[0][0]']     \n",
            " D)                                                                                               \n",
            "                                                                                                  \n",
            " block1b_bn (BatchNormalization  (None, 75, 75, 16)  64          ['block1b_dwconv[0][0]']         \n",
            " )                                                                                                \n",
            "                                                                                                  \n",
            " block1b_activation (Activation  (None, 75, 75, 16)  0           ['block1b_bn[0][0]']             \n",
            " )                                                                                                \n",
            "                                                                                                  \n",
            " block1b_se_squeeze (GlobalAver  (None, 16)          0           ['block1b_activation[0][0]']     \n",
            " agePooling2D)                                                                                    \n",
            "                                                                                                  \n",
            " block1b_se_reshape (Reshape)   (None, 1, 1, 16)     0           ['block1b_se_squeeze[0][0]']     \n",
            "                                                                                                  \n",
            " block1b_se_reduce (Conv2D)     (None, 1, 1, 4)      68          ['block1b_se_reshape[0][0]']     \n",
            "                                                                                                  \n",
            " block1b_se_expand (Conv2D)     (None, 1, 1, 16)     80          ['block1b_se_reduce[0][0]']      \n",
            "                                                                                                  \n",
            " block1b_se_excite (Multiply)   (None, 75, 75, 16)   0           ['block1b_activation[0][0]',     \n",
            "                                                                  'block1b_se_expand[0][0]']      \n",
            "                                                                                                  \n",
            " block1b_project_conv (Conv2D)  (None, 75, 75, 16)   256         ['block1b_se_excite[0][0]']      \n",
            "                                                                                                  \n",
            " block1b_project_bn (BatchNorma  (None, 75, 75, 16)  64          ['block1b_project_conv[0][0]']   \n",
            " lization)                                                                                        \n",
            "                                                                                                  \n",
            " block1b_drop (Dropout)         (None, 75, 75, 16)   0           ['block1b_project_bn[0][0]']     \n",
            "                                                                                                  \n",
            " block1b_add (Add)              (None, 75, 75, 16)   0           ['block1b_drop[0][0]',           \n",
            "                                                                  'block1a_project_bn[0][0]']     \n",
            "                                                                                                  \n",
            " block2a_expand_conv (Conv2D)   (None, 75, 75, 96)   1536        ['block1b_add[0][0]']            \n",
            "                                                                                                  \n",
            " block2a_expand_bn (BatchNormal  (None, 75, 75, 96)  384         ['block2a_expand_conv[0][0]']    \n",
            " ization)                                                                                         \n",
            "                                                                                                  \n",
            " block2a_expand_activation (Act  (None, 75, 75, 96)  0           ['block2a_expand_bn[0][0]']      \n",
            " ivation)                                                                                         \n",
            "                                                                                                  \n",
            " block2a_dwconv_pad (ZeroPaddin  (None, 77, 77, 96)  0           ['block2a_expand_activation[0][0]\n",
            " g2D)                                                            ']                               \n",
            "                                                                                                  \n",
            " block2a_dwconv (DepthwiseConv2  (None, 38, 38, 96)  864         ['block2a_dwconv_pad[0][0]']     \n",
            " D)                                                                                               \n",
            "                                                                                                  \n",
            " block2a_bn (BatchNormalization  (None, 38, 38, 96)  384         ['block2a_dwconv[0][0]']         \n",
            " )                                                                                                \n",
            "                                                                                                  \n",
            " block2a_activation (Activation  (None, 38, 38, 96)  0           ['block2a_bn[0][0]']             \n",
            " )                                                                                                \n",
            "                                                                                                  \n",
            " block2a_se_squeeze (GlobalAver  (None, 96)          0           ['block2a_activation[0][0]']     \n",
            " agePooling2D)                                                                                    \n",
            "                                                                                                  \n",
            " block2a_se_reshape (Reshape)   (None, 1, 1, 96)     0           ['block2a_se_squeeze[0][0]']     \n",
            "                                                                                                  \n",
            " block2a_se_reduce (Conv2D)     (None, 1, 1, 4)      388         ['block2a_se_reshape[0][0]']     \n",
            "                                                                                                  \n",
            " block2a_se_expand (Conv2D)     (None, 1, 1, 96)     480         ['block2a_se_reduce[0][0]']      \n",
            "                                                                                                  \n",
            " block2a_se_excite (Multiply)   (None, 38, 38, 96)   0           ['block2a_activation[0][0]',     \n",
            "                                                                  'block2a_se_expand[0][0]']      \n",
            "                                                                                                  \n",
            " block2a_project_conv (Conv2D)  (None, 38, 38, 24)   2304        ['block2a_se_excite[0][0]']      \n",
            "                                                                                                  \n",
            " block2a_project_bn (BatchNorma  (None, 38, 38, 24)  96          ['block2a_project_conv[0][0]']   \n",
            " lization)                                                                                        \n",
            "                                                                                                  \n",
            " block2b_expand_conv (Conv2D)   (None, 38, 38, 144)  3456        ['block2a_project_bn[0][0]']     \n",
            "                                                                                                  \n",
            " block2b_expand_bn (BatchNormal  (None, 38, 38, 144)  576        ['block2b_expand_conv[0][0]']    \n",
            " ization)                                                                                         \n",
            "                                                                                                  \n",
            " block2b_expand_activation (Act  (None, 38, 38, 144)  0          ['block2b_expand_bn[0][0]']      \n",
            " ivation)                                                                                         \n",
            "                                                                                                  \n",
            " block2b_dwconv (DepthwiseConv2  (None, 38, 38, 144)  1296       ['block2b_expand_activation[0][0]\n",
            " D)                                                              ']                               \n",
            "                                                                                                  \n",
            " block2b_bn (BatchNormalization  (None, 38, 38, 144)  576        ['block2b_dwconv[0][0]']         \n",
            " )                                                                                                \n",
            "                                                                                                  \n",
            " block2b_activation (Activation  (None, 38, 38, 144)  0          ['block2b_bn[0][0]']             \n",
            " )                                                                                                \n",
            "                                                                                                  \n",
            " block2b_se_squeeze (GlobalAver  (None, 144)         0           ['block2b_activation[0][0]']     \n",
            " agePooling2D)                                                                                    \n",
            "                                                                                                  \n",
            " block2b_se_reshape (Reshape)   (None, 1, 1, 144)    0           ['block2b_se_squeeze[0][0]']     \n",
            "                                                                                                  \n",
            " block2b_se_reduce (Conv2D)     (None, 1, 1, 6)      870         ['block2b_se_reshape[0][0]']     \n",
            "                                                                                                  \n",
            " block2b_se_expand (Conv2D)     (None, 1, 1, 144)    1008        ['block2b_se_reduce[0][0]']      \n",
            "                                                                                                  \n",
            " block2b_se_excite (Multiply)   (None, 38, 38, 144)  0           ['block2b_activation[0][0]',     \n",
            "                                                                  'block2b_se_expand[0][0]']      \n",
            "                                                                                                  \n",
            " block2b_project_conv (Conv2D)  (None, 38, 38, 24)   3456        ['block2b_se_excite[0][0]']      \n",
            "                                                                                                  \n",
            " block2b_project_bn (BatchNorma  (None, 38, 38, 24)  96          ['block2b_project_conv[0][0]']   \n",
            " lization)                                                                                        \n",
            "                                                                                                  \n",
            " block2b_drop (Dropout)         (None, 38, 38, 24)   0           ['block2b_project_bn[0][0]']     \n",
            "                                                                                                  \n",
            " block2b_add (Add)              (None, 38, 38, 24)   0           ['block2b_drop[0][0]',           \n",
            "                                                                  'block2a_project_bn[0][0]']     \n",
            "                                                                                                  \n",
            " block2c_expand_conv (Conv2D)   (None, 38, 38, 144)  3456        ['block2b_add[0][0]']            \n",
            "                                                                                                  \n",
            " block2c_expand_bn (BatchNormal  (None, 38, 38, 144)  576        ['block2c_expand_conv[0][0]']    \n",
            " ization)                                                                                         \n",
            "                                                                                                  \n",
            " block2c_expand_activation (Act  (None, 38, 38, 144)  0          ['block2c_expand_bn[0][0]']      \n",
            " ivation)                                                                                         \n",
            "                                                                                                  \n",
            " block2c_dwconv (DepthwiseConv2  (None, 38, 38, 144)  1296       ['block2c_expand_activation[0][0]\n",
            " D)                                                              ']                               \n",
            "                                                                                                  \n",
            " block2c_bn (BatchNormalization  (None, 38, 38, 144)  576        ['block2c_dwconv[0][0]']         \n",
            " )                                                                                                \n",
            "                                                                                                  \n",
            " block2c_activation (Activation  (None, 38, 38, 144)  0          ['block2c_bn[0][0]']             \n",
            " )                                                                                                \n",
            "                                                                                                  \n",
            " block2c_se_squeeze (GlobalAver  (None, 144)         0           ['block2c_activation[0][0]']     \n",
            " agePooling2D)                                                                                    \n",
            "                                                                                                  \n",
            " block2c_se_reshape (Reshape)   (None, 1, 1, 144)    0           ['block2c_se_squeeze[0][0]']     \n",
            "                                                                                                  \n",
            " block2c_se_reduce (Conv2D)     (None, 1, 1, 6)      870         ['block2c_se_reshape[0][0]']     \n",
            "                                                                                                  \n",
            " block2c_se_expand (Conv2D)     (None, 1, 1, 144)    1008        ['block2c_se_reduce[0][0]']      \n",
            "                                                                                                  \n",
            " block2c_se_excite (Multiply)   (None, 38, 38, 144)  0           ['block2c_activation[0][0]',     \n",
            "                                                                  'block2c_se_expand[0][0]']      \n",
            "                                                                                                  \n",
            " block2c_project_conv (Conv2D)  (None, 38, 38, 24)   3456        ['block2c_se_excite[0][0]']      \n",
            "                                                                                                  \n",
            " block2c_project_bn (BatchNorma  (None, 38, 38, 24)  96          ['block2c_project_conv[0][0]']   \n",
            " lization)                                                                                        \n",
            "                                                                                                  \n",
            " block2c_drop (Dropout)         (None, 38, 38, 24)   0           ['block2c_project_bn[0][0]']     \n",
            "                                                                                                  \n",
            " block2c_add (Add)              (None, 38, 38, 24)   0           ['block2c_drop[0][0]',           \n",
            "                                                                  'block2b_add[0][0]']            \n",
            "                                                                                                  \n",
            " block3a_expand_conv (Conv2D)   (None, 38, 38, 144)  3456        ['block2c_add[0][0]']            \n",
            "                                                                                                  \n",
            " block3a_expand_bn (BatchNormal  (None, 38, 38, 144)  576        ['block3a_expand_conv[0][0]']    \n",
            " ization)                                                                                         \n",
            "                                                                                                  \n",
            " block3a_expand_activation (Act  (None, 38, 38, 144)  0          ['block3a_expand_bn[0][0]']      \n",
            " ivation)                                                                                         \n",
            "                                                                                                  \n",
            " block3a_dwconv_pad (ZeroPaddin  (None, 41, 41, 144)  0          ['block3a_expand_activation[0][0]\n",
            " g2D)                                                            ']                               \n",
            "                                                                                                  \n",
            " block3a_dwconv (DepthwiseConv2  (None, 19, 19, 144)  3600       ['block3a_dwconv_pad[0][0]']     \n",
            " D)                                                                                               \n",
            "                                                                                                  \n",
            " block3a_bn (BatchNormalization  (None, 19, 19, 144)  576        ['block3a_dwconv[0][0]']         \n",
            " )                                                                                                \n",
            "                                                                                                  \n",
            " block3a_activation (Activation  (None, 19, 19, 144)  0          ['block3a_bn[0][0]']             \n",
            " )                                                                                                \n",
            "                                                                                                  \n",
            " block3a_se_squeeze (GlobalAver  (None, 144)         0           ['block3a_activation[0][0]']     \n",
            " agePooling2D)                                                                                    \n",
            "                                                                                                  \n",
            " block3a_se_reshape (Reshape)   (None, 1, 1, 144)    0           ['block3a_se_squeeze[0][0]']     \n",
            "                                                                                                  \n",
            " block3a_se_reduce (Conv2D)     (None, 1, 1, 6)      870         ['block3a_se_reshape[0][0]']     \n",
            "                                                                                                  \n",
            " block3a_se_expand (Conv2D)     (None, 1, 1, 144)    1008        ['block3a_se_reduce[0][0]']      \n",
            "                                                                                                  \n",
            " block3a_se_excite (Multiply)   (None, 19, 19, 144)  0           ['block3a_activation[0][0]',     \n",
            "                                                                  'block3a_se_expand[0][0]']      \n",
            "                                                                                                  \n",
            " block3a_project_conv (Conv2D)  (None, 19, 19, 48)   6912        ['block3a_se_excite[0][0]']      \n",
            "                                                                                                  \n",
            " block3a_project_bn (BatchNorma  (None, 19, 19, 48)  192         ['block3a_project_conv[0][0]']   \n",
            " lization)                                                                                        \n",
            "                                                                                                  \n",
            " block3b_expand_conv (Conv2D)   (None, 19, 19, 288)  13824       ['block3a_project_bn[0][0]']     \n",
            "                                                                                                  \n",
            " block3b_expand_bn (BatchNormal  (None, 19, 19, 288)  1152       ['block3b_expand_conv[0][0]']    \n",
            " ization)                                                                                         \n",
            "                                                                                                  \n",
            " block3b_expand_activation (Act  (None, 19, 19, 288)  0          ['block3b_expand_bn[0][0]']      \n",
            " ivation)                                                                                         \n",
            "                                                                                                  \n",
            " block3b_dwconv (DepthwiseConv2  (None, 19, 19, 288)  7200       ['block3b_expand_activation[0][0]\n",
            " D)                                                              ']                               \n",
            "                                                                                                  \n",
            " block3b_bn (BatchNormalization  (None, 19, 19, 288)  1152       ['block3b_dwconv[0][0]']         \n",
            " )                                                                                                \n",
            "                                                                                                  \n",
            " block3b_activation (Activation  (None, 19, 19, 288)  0          ['block3b_bn[0][0]']             \n",
            " )                                                                                                \n",
            "                                                                                                  \n",
            " block3b_se_squeeze (GlobalAver  (None, 288)         0           ['block3b_activation[0][0]']     \n",
            " agePooling2D)                                                                                    \n",
            "                                                                                                  \n",
            " block3b_se_reshape (Reshape)   (None, 1, 1, 288)    0           ['block3b_se_squeeze[0][0]']     \n",
            "                                                                                                  \n",
            " block3b_se_reduce (Conv2D)     (None, 1, 1, 12)     3468        ['block3b_se_reshape[0][0]']     \n",
            "                                                                                                  \n",
            " block3b_se_expand (Conv2D)     (None, 1, 1, 288)    3744        ['block3b_se_reduce[0][0]']      \n",
            "                                                                                                  \n",
            " block3b_se_excite (Multiply)   (None, 19, 19, 288)  0           ['block3b_activation[0][0]',     \n",
            "                                                                  'block3b_se_expand[0][0]']      \n",
            "                                                                                                  \n",
            " block3b_project_conv (Conv2D)  (None, 19, 19, 48)   13824       ['block3b_se_excite[0][0]']      \n",
            "                                                                                                  \n",
            " block3b_project_bn (BatchNorma  (None, 19, 19, 48)  192         ['block3b_project_conv[0][0]']   \n",
            " lization)                                                                                        \n",
            "                                                                                                  \n",
            " block3b_drop (Dropout)         (None, 19, 19, 48)   0           ['block3b_project_bn[0][0]']     \n",
            "                                                                                                  \n",
            " block3b_add (Add)              (None, 19, 19, 48)   0           ['block3b_drop[0][0]',           \n",
            "                                                                  'block3a_project_bn[0][0]']     \n",
            "                                                                                                  \n",
            " block3c_expand_conv (Conv2D)   (None, 19, 19, 288)  13824       ['block3b_add[0][0]']            \n",
            "                                                                                                  \n",
            " block3c_expand_bn (BatchNormal  (None, 19, 19, 288)  1152       ['block3c_expand_conv[0][0]']    \n",
            " ization)                                                                                         \n",
            "                                                                                                  \n",
            " block3c_expand_activation (Act  (None, 19, 19, 288)  0          ['block3c_expand_bn[0][0]']      \n",
            " ivation)                                                                                         \n",
            "                                                                                                  \n",
            " block3c_dwconv (DepthwiseConv2  (None, 19, 19, 288)  7200       ['block3c_expand_activation[0][0]\n",
            " D)                                                              ']                               \n",
            "                                                                                                  \n",
            " block3c_bn (BatchNormalization  (None, 19, 19, 288)  1152       ['block3c_dwconv[0][0]']         \n",
            " )                                                                                                \n",
            "                                                                                                  \n",
            " block3c_activation (Activation  (None, 19, 19, 288)  0          ['block3c_bn[0][0]']             \n",
            " )                                                                                                \n",
            "                                                                                                  \n",
            " block3c_se_squeeze (GlobalAver  (None, 288)         0           ['block3c_activation[0][0]']     \n",
            " agePooling2D)                                                                                    \n",
            "                                                                                                  \n",
            " block3c_se_reshape (Reshape)   (None, 1, 1, 288)    0           ['block3c_se_squeeze[0][0]']     \n",
            "                                                                                                  \n",
            " block3c_se_reduce (Conv2D)     (None, 1, 1, 12)     3468        ['block3c_se_reshape[0][0]']     \n",
            "                                                                                                  \n",
            " block3c_se_expand (Conv2D)     (None, 1, 1, 288)    3744        ['block3c_se_reduce[0][0]']      \n",
            "                                                                                                  \n",
            " block3c_se_excite (Multiply)   (None, 19, 19, 288)  0           ['block3c_activation[0][0]',     \n",
            "                                                                  'block3c_se_expand[0][0]']      \n",
            "                                                                                                  \n",
            " block3c_project_conv (Conv2D)  (None, 19, 19, 48)   13824       ['block3c_se_excite[0][0]']      \n",
            "                                                                                                  \n",
            " block3c_project_bn (BatchNorma  (None, 19, 19, 48)  192         ['block3c_project_conv[0][0]']   \n",
            " lization)                                                                                        \n",
            "                                                                                                  \n",
            " block3c_drop (Dropout)         (None, 19, 19, 48)   0           ['block3c_project_bn[0][0]']     \n",
            "                                                                                                  \n",
            " block3c_add (Add)              (None, 19, 19, 48)   0           ['block3c_drop[0][0]',           \n",
            "                                                                  'block3b_add[0][0]']            \n",
            "                                                                                                  \n",
            " block4a_expand_conv (Conv2D)   (None, 19, 19, 288)  13824       ['block3c_add[0][0]']            \n",
            "                                                                                                  \n",
            " block4a_expand_bn (BatchNormal  (None, 19, 19, 288)  1152       ['block4a_expand_conv[0][0]']    \n",
            " ization)                                                                                         \n",
            "                                                                                                  \n",
            " block4a_expand_activation (Act  (None, 19, 19, 288)  0          ['block4a_expand_bn[0][0]']      \n",
            " ivation)                                                                                         \n",
            "                                                                                                  \n",
            " block4a_dwconv_pad (ZeroPaddin  (None, 21, 21, 288)  0          ['block4a_expand_activation[0][0]\n",
            " g2D)                                                            ']                               \n",
            "                                                                                                  \n",
            " block4a_dwconv (DepthwiseConv2  (None, 10, 10, 288)  2592       ['block4a_dwconv_pad[0][0]']     \n",
            " D)                                                                                               \n",
            "                                                                                                  \n",
            " block4a_bn (BatchNormalization  (None, 10, 10, 288)  1152       ['block4a_dwconv[0][0]']         \n",
            " )                                                                                                \n",
            "                                                                                                  \n",
            " block4a_activation (Activation  (None, 10, 10, 288)  0          ['block4a_bn[0][0]']             \n",
            " )                                                                                                \n",
            "                                                                                                  \n",
            " block4a_se_squeeze (GlobalAver  (None, 288)         0           ['block4a_activation[0][0]']     \n",
            " agePooling2D)                                                                                    \n",
            "                                                                                                  \n",
            " block4a_se_reshape (Reshape)   (None, 1, 1, 288)    0           ['block4a_se_squeeze[0][0]']     \n",
            "                                                                                                  \n",
            " block4a_se_reduce (Conv2D)     (None, 1, 1, 12)     3468        ['block4a_se_reshape[0][0]']     \n",
            "                                                                                                  \n",
            " block4a_se_expand (Conv2D)     (None, 1, 1, 288)    3744        ['block4a_se_reduce[0][0]']      \n",
            "                                                                                                  \n",
            " block4a_se_excite (Multiply)   (None, 10, 10, 288)  0           ['block4a_activation[0][0]',     \n",
            "                                                                  'block4a_se_expand[0][0]']      \n",
            "                                                                                                  \n",
            " block4a_project_conv (Conv2D)  (None, 10, 10, 88)   25344       ['block4a_se_excite[0][0]']      \n",
            "                                                                                                  \n",
            " block4a_project_bn (BatchNorma  (None, 10, 10, 88)  352         ['block4a_project_conv[0][0]']   \n",
            " lization)                                                                                        \n",
            "                                                                                                  \n",
            " block4b_expand_conv (Conv2D)   (None, 10, 10, 528)  46464       ['block4a_project_bn[0][0]']     \n",
            "                                                                                                  \n",
            " block4b_expand_bn (BatchNormal  (None, 10, 10, 528)  2112       ['block4b_expand_conv[0][0]']    \n",
            " ization)                                                                                         \n",
            "                                                                                                  \n",
            " block4b_expand_activation (Act  (None, 10, 10, 528)  0          ['block4b_expand_bn[0][0]']      \n",
            " ivation)                                                                                         \n",
            "                                                                                                  \n",
            " block4b_dwconv (DepthwiseConv2  (None, 10, 10, 528)  4752       ['block4b_expand_activation[0][0]\n",
            " D)                                                              ']                               \n",
            "                                                                                                  \n",
            " block4b_bn (BatchNormalization  (None, 10, 10, 528)  2112       ['block4b_dwconv[0][0]']         \n",
            " )                                                                                                \n",
            "                                                                                                  \n",
            " block4b_activation (Activation  (None, 10, 10, 528)  0          ['block4b_bn[0][0]']             \n",
            " )                                                                                                \n",
            "                                                                                                  \n",
            " block4b_se_squeeze (GlobalAver  (None, 528)         0           ['block4b_activation[0][0]']     \n",
            " agePooling2D)                                                                                    \n",
            "                                                                                                  \n",
            " block4b_se_reshape (Reshape)   (None, 1, 1, 528)    0           ['block4b_se_squeeze[0][0]']     \n",
            "                                                                                                  \n",
            " block4b_se_reduce (Conv2D)     (None, 1, 1, 22)     11638       ['block4b_se_reshape[0][0]']     \n",
            "                                                                                                  \n",
            " block4b_se_expand (Conv2D)     (None, 1, 1, 528)    12144       ['block4b_se_reduce[0][0]']      \n",
            "                                                                                                  \n",
            " block4b_se_excite (Multiply)   (None, 10, 10, 528)  0           ['block4b_activation[0][0]',     \n",
            "                                                                  'block4b_se_expand[0][0]']      \n",
            "                                                                                                  \n",
            " block4b_project_conv (Conv2D)  (None, 10, 10, 88)   46464       ['block4b_se_excite[0][0]']      \n",
            "                                                                                                  \n",
            " block4b_project_bn (BatchNorma  (None, 10, 10, 88)  352         ['block4b_project_conv[0][0]']   \n",
            " lization)                                                                                        \n",
            "                                                                                                  \n",
            " block4b_drop (Dropout)         (None, 10, 10, 88)   0           ['block4b_project_bn[0][0]']     \n",
            "                                                                                                  \n",
            " block4b_add (Add)              (None, 10, 10, 88)   0           ['block4b_drop[0][0]',           \n",
            "                                                                  'block4a_project_bn[0][0]']     \n",
            "                                                                                                  \n",
            " block4c_expand_conv (Conv2D)   (None, 10, 10, 528)  46464       ['block4b_add[0][0]']            \n",
            "                                                                                                  \n",
            " block4c_expand_bn (BatchNormal  (None, 10, 10, 528)  2112       ['block4c_expand_conv[0][0]']    \n",
            " ization)                                                                                         \n",
            "                                                                                                  \n",
            " block4c_expand_activation (Act  (None, 10, 10, 528)  0          ['block4c_expand_bn[0][0]']      \n",
            " ivation)                                                                                         \n",
            "                                                                                                  \n",
            " block4c_dwconv (DepthwiseConv2  (None, 10, 10, 528)  4752       ['block4c_expand_activation[0][0]\n",
            " D)                                                              ']                               \n",
            "                                                                                                  \n",
            " block4c_bn (BatchNormalization  (None, 10, 10, 528)  2112       ['block4c_dwconv[0][0]']         \n",
            " )                                                                                                \n",
            "                                                                                                  \n",
            " block4c_activation (Activation  (None, 10, 10, 528)  0          ['block4c_bn[0][0]']             \n",
            " )                                                                                                \n",
            "                                                                                                  \n",
            " block4c_se_squeeze (GlobalAver  (None, 528)         0           ['block4c_activation[0][0]']     \n",
            " agePooling2D)                                                                                    \n",
            "                                                                                                  \n",
            " block4c_se_reshape (Reshape)   (None, 1, 1, 528)    0           ['block4c_se_squeeze[0][0]']     \n",
            "                                                                                                  \n",
            " block4c_se_reduce (Conv2D)     (None, 1, 1, 22)     11638       ['block4c_se_reshape[0][0]']     \n",
            "                                                                                                  \n",
            " block4c_se_expand (Conv2D)     (None, 1, 1, 528)    12144       ['block4c_se_reduce[0][0]']      \n",
            "                                                                                                  \n",
            " block4c_se_excite (Multiply)   (None, 10, 10, 528)  0           ['block4c_activation[0][0]',     \n",
            "                                                                  'block4c_se_expand[0][0]']      \n",
            "                                                                                                  \n",
            " block4c_project_conv (Conv2D)  (None, 10, 10, 88)   46464       ['block4c_se_excite[0][0]']      \n",
            "                                                                                                  \n",
            " block4c_project_bn (BatchNorma  (None, 10, 10, 88)  352         ['block4c_project_conv[0][0]']   \n",
            " lization)                                                                                        \n",
            "                                                                                                  \n",
            " block4c_drop (Dropout)         (None, 10, 10, 88)   0           ['block4c_project_bn[0][0]']     \n",
            "                                                                                                  \n",
            " block4c_add (Add)              (None, 10, 10, 88)   0           ['block4c_drop[0][0]',           \n",
            "                                                                  'block4b_add[0][0]']            \n",
            "                                                                                                  \n",
            " block4d_expand_conv (Conv2D)   (None, 10, 10, 528)  46464       ['block4c_add[0][0]']            \n",
            "                                                                                                  \n",
            " block4d_expand_bn (BatchNormal  (None, 10, 10, 528)  2112       ['block4d_expand_conv[0][0]']    \n",
            " ization)                                                                                         \n",
            "                                                                                                  \n",
            " block4d_expand_activation (Act  (None, 10, 10, 528)  0          ['block4d_expand_bn[0][0]']      \n",
            " ivation)                                                                                         \n",
            "                                                                                                  \n",
            " block4d_dwconv (DepthwiseConv2  (None, 10, 10, 528)  4752       ['block4d_expand_activation[0][0]\n",
            " D)                                                              ']                               \n",
            "                                                                                                  \n",
            " block4d_bn (BatchNormalization  (None, 10, 10, 528)  2112       ['block4d_dwconv[0][0]']         \n",
            " )                                                                                                \n",
            "                                                                                                  \n",
            " block4d_activation (Activation  (None, 10, 10, 528)  0          ['block4d_bn[0][0]']             \n",
            " )                                                                                                \n",
            "                                                                                                  \n",
            " block4d_se_squeeze (GlobalAver  (None, 528)         0           ['block4d_activation[0][0]']     \n",
            " agePooling2D)                                                                                    \n",
            "                                                                                                  \n",
            " block4d_se_reshape (Reshape)   (None, 1, 1, 528)    0           ['block4d_se_squeeze[0][0]']     \n",
            "                                                                                                  \n",
            " block4d_se_reduce (Conv2D)     (None, 1, 1, 22)     11638       ['block4d_se_reshape[0][0]']     \n",
            "                                                                                                  \n",
            " block4d_se_expand (Conv2D)     (None, 1, 1, 528)    12144       ['block4d_se_reduce[0][0]']      \n",
            "                                                                                                  \n",
            " block4d_se_excite (Multiply)   (None, 10, 10, 528)  0           ['block4d_activation[0][0]',     \n",
            "                                                                  'block4d_se_expand[0][0]']      \n",
            "                                                                                                  \n",
            " block4d_project_conv (Conv2D)  (None, 10, 10, 88)   46464       ['block4d_se_excite[0][0]']      \n",
            "                                                                                                  \n",
            " block4d_project_bn (BatchNorma  (None, 10, 10, 88)  352         ['block4d_project_conv[0][0]']   \n",
            " lization)                                                                                        \n",
            "                                                                                                  \n",
            " block4d_drop (Dropout)         (None, 10, 10, 88)   0           ['block4d_project_bn[0][0]']     \n",
            "                                                                                                  \n",
            " block4d_add (Add)              (None, 10, 10, 88)   0           ['block4d_drop[0][0]',           \n",
            "                                                                  'block4c_add[0][0]']            \n",
            "                                                                                                  \n",
            " block5a_expand_conv (Conv2D)   (None, 10, 10, 528)  46464       ['block4d_add[0][0]']            \n",
            "                                                                                                  \n",
            " block5a_expand_bn (BatchNormal  (None, 10, 10, 528)  2112       ['block5a_expand_conv[0][0]']    \n",
            " ization)                                                                                         \n",
            "                                                                                                  \n",
            " block5a_expand_activation (Act  (None, 10, 10, 528)  0          ['block5a_expand_bn[0][0]']      \n",
            " ivation)                                                                                         \n",
            "                                                                                                  \n",
            " block5a_dwconv (DepthwiseConv2  (None, 10, 10, 528)  13200      ['block5a_expand_activation[0][0]\n",
            " D)                                                              ']                               \n",
            "                                                                                                  \n",
            " block5a_bn (BatchNormalization  (None, 10, 10, 528)  2112       ['block5a_dwconv[0][0]']         \n",
            " )                                                                                                \n",
            "                                                                                                  \n",
            " block5a_activation (Activation  (None, 10, 10, 528)  0          ['block5a_bn[0][0]']             \n",
            " )                                                                                                \n",
            "                                                                                                  \n",
            " block5a_se_squeeze (GlobalAver  (None, 528)         0           ['block5a_activation[0][0]']     \n",
            " agePooling2D)                                                                                    \n",
            "                                                                                                  \n",
            " block5a_se_reshape (Reshape)   (None, 1, 1, 528)    0           ['block5a_se_squeeze[0][0]']     \n",
            "                                                                                                  \n",
            " block5a_se_reduce (Conv2D)     (None, 1, 1, 22)     11638       ['block5a_se_reshape[0][0]']     \n",
            "                                                                                                  \n",
            " block5a_se_expand (Conv2D)     (None, 1, 1, 528)    12144       ['block5a_se_reduce[0][0]']      \n",
            "                                                                                                  \n",
            " block5a_se_excite (Multiply)   (None, 10, 10, 528)  0           ['block5a_activation[0][0]',     \n",
            "                                                                  'block5a_se_expand[0][0]']      \n",
            "                                                                                                  \n",
            " block5a_project_conv (Conv2D)  (None, 10, 10, 120)  63360       ['block5a_se_excite[0][0]']      \n",
            "                                                                                                  \n",
            " block5a_project_bn (BatchNorma  (None, 10, 10, 120)  480        ['block5a_project_conv[0][0]']   \n",
            " lization)                                                                                        \n",
            "                                                                                                  \n",
            " block5b_expand_conv (Conv2D)   (None, 10, 10, 720)  86400       ['block5a_project_bn[0][0]']     \n",
            "                                                                                                  \n",
            " block5b_expand_bn (BatchNormal  (None, 10, 10, 720)  2880       ['block5b_expand_conv[0][0]']    \n",
            " ization)                                                                                         \n",
            "                                                                                                  \n",
            " block5b_expand_activation (Act  (None, 10, 10, 720)  0          ['block5b_expand_bn[0][0]']      \n",
            " ivation)                                                                                         \n",
            "                                                                                                  \n",
            " block5b_dwconv (DepthwiseConv2  (None, 10, 10, 720)  18000      ['block5b_expand_activation[0][0]\n",
            " D)                                                              ']                               \n",
            "                                                                                                  \n",
            " block5b_bn (BatchNormalization  (None, 10, 10, 720)  2880       ['block5b_dwconv[0][0]']         \n",
            " )                                                                                                \n",
            "                                                                                                  \n",
            " block5b_activation (Activation  (None, 10, 10, 720)  0          ['block5b_bn[0][0]']             \n",
            " )                                                                                                \n",
            "                                                                                                  \n",
            " block5b_se_squeeze (GlobalAver  (None, 720)         0           ['block5b_activation[0][0]']     \n",
            " agePooling2D)                                                                                    \n",
            "                                                                                                  \n",
            " block5b_se_reshape (Reshape)   (None, 1, 1, 720)    0           ['block5b_se_squeeze[0][0]']     \n",
            "                                                                                                  \n",
            " block5b_se_reduce (Conv2D)     (None, 1, 1, 30)     21630       ['block5b_se_reshape[0][0]']     \n",
            "                                                                                                  \n",
            " block5b_se_expand (Conv2D)     (None, 1, 1, 720)    22320       ['block5b_se_reduce[0][0]']      \n",
            "                                                                                                  \n",
            " block5b_se_excite (Multiply)   (None, 10, 10, 720)  0           ['block5b_activation[0][0]',     \n",
            "                                                                  'block5b_se_expand[0][0]']      \n",
            "                                                                                                  \n",
            " block5b_project_conv (Conv2D)  (None, 10, 10, 120)  86400       ['block5b_se_excite[0][0]']      \n",
            "                                                                                                  \n",
            " block5b_project_bn (BatchNorma  (None, 10, 10, 120)  480        ['block5b_project_conv[0][0]']   \n",
            " lization)                                                                                        \n",
            "                                                                                                  \n",
            " block5b_drop (Dropout)         (None, 10, 10, 120)  0           ['block5b_project_bn[0][0]']     \n",
            "                                                                                                  \n",
            " block5b_add (Add)              (None, 10, 10, 120)  0           ['block5b_drop[0][0]',           \n",
            "                                                                  'block5a_project_bn[0][0]']     \n",
            "                                                                                                  \n",
            " block5c_expand_conv (Conv2D)   (None, 10, 10, 720)  86400       ['block5b_add[0][0]']            \n",
            "                                                                                                  \n",
            " block5c_expand_bn (BatchNormal  (None, 10, 10, 720)  2880       ['block5c_expand_conv[0][0]']    \n",
            " ization)                                                                                         \n",
            "                                                                                                  \n",
            " block5c_expand_activation (Act  (None, 10, 10, 720)  0          ['block5c_expand_bn[0][0]']      \n",
            " ivation)                                                                                         \n",
            "                                                                                                  \n",
            " block5c_dwconv (DepthwiseConv2  (None, 10, 10, 720)  18000      ['block5c_expand_activation[0][0]\n",
            " D)                                                              ']                               \n",
            "                                                                                                  \n",
            " block5c_bn (BatchNormalization  (None, 10, 10, 720)  2880       ['block5c_dwconv[0][0]']         \n",
            " )                                                                                                \n",
            "                                                                                                  \n",
            " block5c_activation (Activation  (None, 10, 10, 720)  0          ['block5c_bn[0][0]']             \n",
            " )                                                                                                \n",
            "                                                                                                  \n",
            " block5c_se_squeeze (GlobalAver  (None, 720)         0           ['block5c_activation[0][0]']     \n",
            " agePooling2D)                                                                                    \n",
            "                                                                                                  \n",
            " block5c_se_reshape (Reshape)   (None, 1, 1, 720)    0           ['block5c_se_squeeze[0][0]']     \n",
            "                                                                                                  \n",
            " block5c_se_reduce (Conv2D)     (None, 1, 1, 30)     21630       ['block5c_se_reshape[0][0]']     \n",
            "                                                                                                  \n",
            " block5c_se_expand (Conv2D)     (None, 1, 1, 720)    22320       ['block5c_se_reduce[0][0]']      \n",
            "                                                                                                  \n",
            " block5c_se_excite (Multiply)   (None, 10, 10, 720)  0           ['block5c_activation[0][0]',     \n",
            "                                                                  'block5c_se_expand[0][0]']      \n",
            "                                                                                                  \n",
            " block5c_project_conv (Conv2D)  (None, 10, 10, 120)  86400       ['block5c_se_excite[0][0]']      \n",
            "                                                                                                  \n",
            " block5c_project_bn (BatchNorma  (None, 10, 10, 120)  480        ['block5c_project_conv[0][0]']   \n",
            " lization)                                                                                        \n",
            "                                                                                                  \n",
            " block5c_drop (Dropout)         (None, 10, 10, 120)  0           ['block5c_project_bn[0][0]']     \n",
            "                                                                                                  \n",
            " block5c_add (Add)              (None, 10, 10, 120)  0           ['block5c_drop[0][0]',           \n",
            "                                                                  'block5b_add[0][0]']            \n",
            "                                                                                                  \n",
            " block5d_expand_conv (Conv2D)   (None, 10, 10, 720)  86400       ['block5c_add[0][0]']            \n",
            "                                                                                                  \n",
            " block5d_expand_bn (BatchNormal  (None, 10, 10, 720)  2880       ['block5d_expand_conv[0][0]']    \n",
            " ization)                                                                                         \n",
            "                                                                                                  \n",
            " block5d_expand_activation (Act  (None, 10, 10, 720)  0          ['block5d_expand_bn[0][0]']      \n",
            " ivation)                                                                                         \n",
            "                                                                                                  \n",
            " block5d_dwconv (DepthwiseConv2  (None, 10, 10, 720)  18000      ['block5d_expand_activation[0][0]\n",
            " D)                                                              ']                               \n",
            "                                                                                                  \n",
            " block5d_bn (BatchNormalization  (None, 10, 10, 720)  2880       ['block5d_dwconv[0][0]']         \n",
            " )                                                                                                \n",
            "                                                                                                  \n",
            " block5d_activation (Activation  (None, 10, 10, 720)  0          ['block5d_bn[0][0]']             \n",
            " )                                                                                                \n",
            "                                                                                                  \n",
            " block5d_se_squeeze (GlobalAver  (None, 720)         0           ['block5d_activation[0][0]']     \n",
            " agePooling2D)                                                                                    \n",
            "                                                                                                  \n",
            " block5d_se_reshape (Reshape)   (None, 1, 1, 720)    0           ['block5d_se_squeeze[0][0]']     \n",
            "                                                                                                  \n",
            " block5d_se_reduce (Conv2D)     (None, 1, 1, 30)     21630       ['block5d_se_reshape[0][0]']     \n",
            "                                                                                                  \n",
            " block5d_se_expand (Conv2D)     (None, 1, 1, 720)    22320       ['block5d_se_reduce[0][0]']      \n",
            "                                                                                                  \n",
            " block5d_se_excite (Multiply)   (None, 10, 10, 720)  0           ['block5d_activation[0][0]',     \n",
            "                                                                  'block5d_se_expand[0][0]']      \n",
            "                                                                                                  \n",
            " block5d_project_conv (Conv2D)  (None, 10, 10, 120)  86400       ['block5d_se_excite[0][0]']      \n",
            "                                                                                                  \n",
            " block5d_project_bn (BatchNorma  (None, 10, 10, 120)  480        ['block5d_project_conv[0][0]']   \n",
            " lization)                                                                                        \n",
            "                                                                                                  \n",
            " block5d_drop (Dropout)         (None, 10, 10, 120)  0           ['block5d_project_bn[0][0]']     \n",
            "                                                                                                  \n",
            " block5d_add (Add)              (None, 10, 10, 120)  0           ['block5d_drop[0][0]',           \n",
            "                                                                  'block5c_add[0][0]']            \n",
            "                                                                                                  \n",
            " block6a_expand_conv (Conv2D)   (None, 10, 10, 720)  86400       ['block5d_add[0][0]']            \n",
            "                                                                                                  \n",
            " block6a_expand_bn (BatchNormal  (None, 10, 10, 720)  2880       ['block6a_expand_conv[0][0]']    \n",
            " ization)                                                                                         \n",
            "                                                                                                  \n",
            " block6a_expand_activation (Act  (None, 10, 10, 720)  0          ['block6a_expand_bn[0][0]']      \n",
            " ivation)                                                                                         \n",
            "                                                                                                  \n",
            " block6a_dwconv_pad (ZeroPaddin  (None, 13, 13, 720)  0          ['block6a_expand_activation[0][0]\n",
            " g2D)                                                            ']                               \n",
            "                                                                                                  \n",
            " block6a_dwconv (DepthwiseConv2  (None, 5, 5, 720)   18000       ['block6a_dwconv_pad[0][0]']     \n",
            " D)                                                                                               \n",
            "                                                                                                  \n",
            " block6a_bn (BatchNormalization  (None, 5, 5, 720)   2880        ['block6a_dwconv[0][0]']         \n",
            " )                                                                                                \n",
            "                                                                                                  \n",
            " block6a_activation (Activation  (None, 5, 5, 720)   0           ['block6a_bn[0][0]']             \n",
            " )                                                                                                \n",
            "                                                                                                  \n",
            " block6a_se_squeeze (GlobalAver  (None, 720)         0           ['block6a_activation[0][0]']     \n",
            " agePooling2D)                                                                                    \n",
            "                                                                                                  \n",
            " block6a_se_reshape (Reshape)   (None, 1, 1, 720)    0           ['block6a_se_squeeze[0][0]']     \n",
            "                                                                                                  \n",
            " block6a_se_reduce (Conv2D)     (None, 1, 1, 30)     21630       ['block6a_se_reshape[0][0]']     \n",
            "                                                                                                  \n",
            " block6a_se_expand (Conv2D)     (None, 1, 1, 720)    22320       ['block6a_se_reduce[0][0]']      \n",
            "                                                                                                  \n",
            " block6a_se_excite (Multiply)   (None, 5, 5, 720)    0           ['block6a_activation[0][0]',     \n",
            "                                                                  'block6a_se_expand[0][0]']      \n",
            "                                                                                                  \n",
            " block6a_project_conv (Conv2D)  (None, 5, 5, 208)    149760      ['block6a_se_excite[0][0]']      \n",
            "                                                                                                  \n",
            " block6a_project_bn (BatchNorma  (None, 5, 5, 208)   832         ['block6a_project_conv[0][0]']   \n",
            " lization)                                                                                        \n",
            "                                                                                                  \n",
            " block6b_expand_conv (Conv2D)   (None, 5, 5, 1248)   259584      ['block6a_project_bn[0][0]']     \n",
            "                                                                                                  \n",
            " block6b_expand_bn (BatchNormal  (None, 5, 5, 1248)  4992        ['block6b_expand_conv[0][0]']    \n",
            " ization)                                                                                         \n",
            "                                                                                                  \n",
            " block6b_expand_activation (Act  (None, 5, 5, 1248)  0           ['block6b_expand_bn[0][0]']      \n",
            " ivation)                                                                                         \n",
            "                                                                                                  \n",
            " block6b_dwconv (DepthwiseConv2  (None, 5, 5, 1248)  31200       ['block6b_expand_activation[0][0]\n",
            " D)                                                              ']                               \n",
            "                                                                                                  \n",
            " block6b_bn (BatchNormalization  (None, 5, 5, 1248)  4992        ['block6b_dwconv[0][0]']         \n",
            " )                                                                                                \n",
            "                                                                                                  \n",
            " block6b_activation (Activation  (None, 5, 5, 1248)  0           ['block6b_bn[0][0]']             \n",
            " )                                                                                                \n",
            "                                                                                                  \n",
            " block6b_se_squeeze (GlobalAver  (None, 1248)        0           ['block6b_activation[0][0]']     \n",
            " agePooling2D)                                                                                    \n",
            "                                                                                                  \n",
            " block6b_se_reshape (Reshape)   (None, 1, 1, 1248)   0           ['block6b_se_squeeze[0][0]']     \n",
            "                                                                                                  \n",
            " block6b_se_reduce (Conv2D)     (None, 1, 1, 52)     64948       ['block6b_se_reshape[0][0]']     \n",
            "                                                                                                  \n",
            " block6b_se_expand (Conv2D)     (None, 1, 1, 1248)   66144       ['block6b_se_reduce[0][0]']      \n",
            "                                                                                                  \n",
            " block6b_se_excite (Multiply)   (None, 5, 5, 1248)   0           ['block6b_activation[0][0]',     \n",
            "                                                                  'block6b_se_expand[0][0]']      \n",
            "                                                                                                  \n",
            " block6b_project_conv (Conv2D)  (None, 5, 5, 208)    259584      ['block6b_se_excite[0][0]']      \n",
            "                                                                                                  \n",
            " block6b_project_bn (BatchNorma  (None, 5, 5, 208)   832         ['block6b_project_conv[0][0]']   \n",
            " lization)                                                                                        \n",
            "                                                                                                  \n",
            " block6b_drop (Dropout)         (None, 5, 5, 208)    0           ['block6b_project_bn[0][0]']     \n",
            "                                                                                                  \n",
            " block6b_add (Add)              (None, 5, 5, 208)    0           ['block6b_drop[0][0]',           \n",
            "                                                                  'block6a_project_bn[0][0]']     \n",
            "                                                                                                  \n",
            " block6c_expand_conv (Conv2D)   (None, 5, 5, 1248)   259584      ['block6b_add[0][0]']            \n",
            "                                                                                                  \n",
            " block6c_expand_bn (BatchNormal  (None, 5, 5, 1248)  4992        ['block6c_expand_conv[0][0]']    \n",
            " ization)                                                                                         \n",
            "                                                                                                  \n",
            " block6c_expand_activation (Act  (None, 5, 5, 1248)  0           ['block6c_expand_bn[0][0]']      \n",
            " ivation)                                                                                         \n",
            "                                                                                                  \n",
            " block6c_dwconv (DepthwiseConv2  (None, 5, 5, 1248)  31200       ['block6c_expand_activation[0][0]\n",
            " D)                                                              ']                               \n",
            "                                                                                                  \n",
            " block6c_bn (BatchNormalization  (None, 5, 5, 1248)  4992        ['block6c_dwconv[0][0]']         \n",
            " )                                                                                                \n",
            "                                                                                                  \n",
            " block6c_activation (Activation  (None, 5, 5, 1248)  0           ['block6c_bn[0][0]']             \n",
            " )                                                                                                \n",
            "                                                                                                  \n",
            " block6c_se_squeeze (GlobalAver  (None, 1248)        0           ['block6c_activation[0][0]']     \n",
            " agePooling2D)                                                                                    \n",
            "                                                                                                  \n",
            " block6c_se_reshape (Reshape)   (None, 1, 1, 1248)   0           ['block6c_se_squeeze[0][0]']     \n",
            "                                                                                                  \n",
            " block6c_se_reduce (Conv2D)     (None, 1, 1, 52)     64948       ['block6c_se_reshape[0][0]']     \n",
            "                                                                                                  \n",
            " block6c_se_expand (Conv2D)     (None, 1, 1, 1248)   66144       ['block6c_se_reduce[0][0]']      \n",
            "                                                                                                  \n",
            " block6c_se_excite (Multiply)   (None, 5, 5, 1248)   0           ['block6c_activation[0][0]',     \n",
            "                                                                  'block6c_se_expand[0][0]']      \n",
            "                                                                                                  \n",
            " block6c_project_conv (Conv2D)  (None, 5, 5, 208)    259584      ['block6c_se_excite[0][0]']      \n",
            "                                                                                                  \n",
            " block6c_project_bn (BatchNorma  (None, 5, 5, 208)   832         ['block6c_project_conv[0][0]']   \n",
            " lization)                                                                                        \n",
            "                                                                                                  \n",
            " block6c_drop (Dropout)         (None, 5, 5, 208)    0           ['block6c_project_bn[0][0]']     \n",
            "                                                                                                  \n",
            " block6c_add (Add)              (None, 5, 5, 208)    0           ['block6c_drop[0][0]',           \n",
            "                                                                  'block6b_add[0][0]']            \n",
            "                                                                                                  \n",
            " block6d_expand_conv (Conv2D)   (None, 5, 5, 1248)   259584      ['block6c_add[0][0]']            \n",
            "                                                                                                  \n",
            " block6d_expand_bn (BatchNormal  (None, 5, 5, 1248)  4992        ['block6d_expand_conv[0][0]']    \n",
            " ization)                                                                                         \n",
            "                                                                                                  \n",
            " block6d_expand_activation (Act  (None, 5, 5, 1248)  0           ['block6d_expand_bn[0][0]']      \n",
            " ivation)                                                                                         \n",
            "                                                                                                  \n",
            " block6d_dwconv (DepthwiseConv2  (None, 5, 5, 1248)  31200       ['block6d_expand_activation[0][0]\n",
            " D)                                                              ']                               \n",
            "                                                                                                  \n",
            " block6d_bn (BatchNormalization  (None, 5, 5, 1248)  4992        ['block6d_dwconv[0][0]']         \n",
            " )                                                                                                \n",
            "                                                                                                  \n",
            " block6d_activation (Activation  (None, 5, 5, 1248)  0           ['block6d_bn[0][0]']             \n",
            " )                                                                                                \n",
            "                                                                                                  \n",
            " block6d_se_squeeze (GlobalAver  (None, 1248)        0           ['block6d_activation[0][0]']     \n",
            " agePooling2D)                                                                                    \n",
            "                                                                                                  \n",
            " block6d_se_reshape (Reshape)   (None, 1, 1, 1248)   0           ['block6d_se_squeeze[0][0]']     \n",
            "                                                                                                  \n",
            " block6d_se_reduce (Conv2D)     (None, 1, 1, 52)     64948       ['block6d_se_reshape[0][0]']     \n",
            "                                                                                                  \n",
            " block6d_se_expand (Conv2D)     (None, 1, 1, 1248)   66144       ['block6d_se_reduce[0][0]']      \n",
            "                                                                                                  \n",
            " block6d_se_excite (Multiply)   (None, 5, 5, 1248)   0           ['block6d_activation[0][0]',     \n",
            "                                                                  'block6d_se_expand[0][0]']      \n",
            "                                                                                                  \n",
            " block6d_project_conv (Conv2D)  (None, 5, 5, 208)    259584      ['block6d_se_excite[0][0]']      \n",
            "                                                                                                  \n",
            " block6d_project_bn (BatchNorma  (None, 5, 5, 208)   832         ['block6d_project_conv[0][0]']   \n",
            " lization)                                                                                        \n",
            "                                                                                                  \n",
            " block6d_drop (Dropout)         (None, 5, 5, 208)    0           ['block6d_project_bn[0][0]']     \n",
            "                                                                                                  \n",
            " block6d_add (Add)              (None, 5, 5, 208)    0           ['block6d_drop[0][0]',           \n",
            "                                                                  'block6c_add[0][0]']            \n",
            "                                                                                                  \n",
            " block6e_expand_conv (Conv2D)   (None, 5, 5, 1248)   259584      ['block6d_add[0][0]']            \n",
            "                                                                                                  \n",
            " block6e_expand_bn (BatchNormal  (None, 5, 5, 1248)  4992        ['block6e_expand_conv[0][0]']    \n",
            " ization)                                                                                         \n",
            "                                                                                                  \n",
            " block6e_expand_activation (Act  (None, 5, 5, 1248)  0           ['block6e_expand_bn[0][0]']      \n",
            " ivation)                                                                                         \n",
            "                                                                                                  \n",
            " block6e_dwconv (DepthwiseConv2  (None, 5, 5, 1248)  31200       ['block6e_expand_activation[0][0]\n",
            " D)                                                              ']                               \n",
            "                                                                                                  \n",
            " block6e_bn (BatchNormalization  (None, 5, 5, 1248)  4992        ['block6e_dwconv[0][0]']         \n",
            " )                                                                                                \n",
            "                                                                                                  \n",
            " block6e_activation (Activation  (None, 5, 5, 1248)  0           ['block6e_bn[0][0]']             \n",
            " )                                                                                                \n",
            "                                                                                                  \n",
            " block6e_se_squeeze (GlobalAver  (None, 1248)        0           ['block6e_activation[0][0]']     \n",
            " agePooling2D)                                                                                    \n",
            "                                                                                                  \n",
            " block6e_se_reshape (Reshape)   (None, 1, 1, 1248)   0           ['block6e_se_squeeze[0][0]']     \n",
            "                                                                                                  \n",
            " block6e_se_reduce (Conv2D)     (None, 1, 1, 52)     64948       ['block6e_se_reshape[0][0]']     \n",
            "                                                                                                  \n",
            " block6e_se_expand (Conv2D)     (None, 1, 1, 1248)   66144       ['block6e_se_reduce[0][0]']      \n",
            "                                                                                                  \n",
            " block6e_se_excite (Multiply)   (None, 5, 5, 1248)   0           ['block6e_activation[0][0]',     \n",
            "                                                                  'block6e_se_expand[0][0]']      \n",
            "                                                                                                  \n",
            " block6e_project_conv (Conv2D)  (None, 5, 5, 208)    259584      ['block6e_se_excite[0][0]']      \n",
            "                                                                                                  \n",
            " block6e_project_bn (BatchNorma  (None, 5, 5, 208)   832         ['block6e_project_conv[0][0]']   \n",
            " lization)                                                                                        \n",
            "                                                                                                  \n",
            " block6e_drop (Dropout)         (None, 5, 5, 208)    0           ['block6e_project_bn[0][0]']     \n",
            "                                                                                                  \n",
            " block6e_add (Add)              (None, 5, 5, 208)    0           ['block6e_drop[0][0]',           \n",
            "                                                                  'block6d_add[0][0]']            \n",
            "                                                                                                  \n",
            " block7a_expand_conv (Conv2D)   (None, 5, 5, 1248)   259584      ['block6e_add[0][0]']            \n",
            "                                                                                                  \n",
            " block7a_expand_bn (BatchNormal  (None, 5, 5, 1248)  4992        ['block7a_expand_conv[0][0]']    \n",
            " ization)                                                                                         \n",
            "                                                                                                  \n",
            " block7a_expand_activation (Act  (None, 5, 5, 1248)  0           ['block7a_expand_bn[0][0]']      \n",
            " ivation)                                                                                         \n",
            "                                                                                                  \n",
            " block7a_dwconv (DepthwiseConv2  (None, 5, 5, 1248)  11232       ['block7a_expand_activation[0][0]\n",
            " D)                                                              ']                               \n",
            "                                                                                                  \n",
            " block7a_bn (BatchNormalization  (None, 5, 5, 1248)  4992        ['block7a_dwconv[0][0]']         \n",
            " )                                                                                                \n",
            "                                                                                                  \n",
            " block7a_activation (Activation  (None, 5, 5, 1248)  0           ['block7a_bn[0][0]']             \n",
            " )                                                                                                \n",
            "                                                                                                  \n",
            " block7a_se_squeeze (GlobalAver  (None, 1248)        0           ['block7a_activation[0][0]']     \n",
            " agePooling2D)                                                                                    \n",
            "                                                                                                  \n",
            " block7a_se_reshape (Reshape)   (None, 1, 1, 1248)   0           ['block7a_se_squeeze[0][0]']     \n",
            "                                                                                                  \n",
            " block7a_se_reduce (Conv2D)     (None, 1, 1, 52)     64948       ['block7a_se_reshape[0][0]']     \n",
            "                                                                                                  \n",
            " block7a_se_expand (Conv2D)     (None, 1, 1, 1248)   66144       ['block7a_se_reduce[0][0]']      \n",
            "                                                                                                  \n",
            " block7a_se_excite (Multiply)   (None, 5, 5, 1248)   0           ['block7a_activation[0][0]',     \n",
            "                                                                  'block7a_se_expand[0][0]']      \n",
            "                                                                                                  \n",
            " block7a_project_conv (Conv2D)  (None, 5, 5, 352)    439296      ['block7a_se_excite[0][0]']      \n",
            "                                                                                                  \n",
            " block7a_project_bn (BatchNorma  (None, 5, 5, 352)   1408        ['block7a_project_conv[0][0]']   \n",
            " lization)                                                                                        \n",
            "                                                                                                  \n",
            " block7b_expand_conv (Conv2D)   (None, 5, 5, 2112)   743424      ['block7a_project_bn[0][0]']     \n",
            "                                                                                                  \n",
            " block7b_expand_bn (BatchNormal  (None, 5, 5, 2112)  8448        ['block7b_expand_conv[0][0]']    \n",
            " ization)                                                                                         \n",
            "                                                                                                  \n",
            " block7b_expand_activation (Act  (None, 5, 5, 2112)  0           ['block7b_expand_bn[0][0]']      \n",
            " ivation)                                                                                         \n",
            "                                                                                                  \n",
            " block7b_dwconv (DepthwiseConv2  (None, 5, 5, 2112)  19008       ['block7b_expand_activation[0][0]\n",
            " D)                                                              ']                               \n",
            "                                                                                                  \n",
            " block7b_bn (BatchNormalization  (None, 5, 5, 2112)  8448        ['block7b_dwconv[0][0]']         \n",
            " )                                                                                                \n",
            "                                                                                                  \n",
            " block7b_activation (Activation  (None, 5, 5, 2112)  0           ['block7b_bn[0][0]']             \n",
            " )                                                                                                \n",
            "                                                                                                  \n",
            " block7b_se_squeeze (GlobalAver  (None, 2112)        0           ['block7b_activation[0][0]']     \n",
            " agePooling2D)                                                                                    \n",
            "                                                                                                  \n",
            " block7b_se_reshape (Reshape)   (None, 1, 1, 2112)   0           ['block7b_se_squeeze[0][0]']     \n",
            "                                                                                                  \n",
            " block7b_se_reduce (Conv2D)     (None, 1, 1, 88)     185944      ['block7b_se_reshape[0][0]']     \n",
            "                                                                                                  \n",
            " block7b_se_expand (Conv2D)     (None, 1, 1, 2112)   187968      ['block7b_se_reduce[0][0]']      \n",
            "                                                                                                  \n",
            " block7b_se_excite (Multiply)   (None, 5, 5, 2112)   0           ['block7b_activation[0][0]',     \n",
            "                                                                  'block7b_se_expand[0][0]']      \n",
            "                                                                                                  \n",
            " block7b_project_conv (Conv2D)  (None, 5, 5, 352)    743424      ['block7b_se_excite[0][0]']      \n",
            "                                                                                                  \n",
            " block7b_project_bn (BatchNorma  (None, 5, 5, 352)   1408        ['block7b_project_conv[0][0]']   \n",
            " lization)                                                                                        \n",
            "                                                                                                  \n",
            " block7b_drop (Dropout)         (None, 5, 5, 352)    0           ['block7b_project_bn[0][0]']     \n",
            "                                                                                                  \n",
            " block7b_add (Add)              (None, 5, 5, 352)    0           ['block7b_drop[0][0]',           \n",
            "                                                                  'block7a_project_bn[0][0]']     \n",
            "                                                                                                  \n",
            " top_conv (Conv2D)              (None, 5, 5, 1408)   495616      ['block7b_add[0][0]']            \n",
            "                                                                                                  \n",
            " top_bn (BatchNormalization)    (None, 5, 5, 1408)   5632        ['top_conv[0][0]']               \n",
            "                                                                                                  \n",
            " top_activation (Activation)    (None, 5, 5, 1408)   0           ['top_bn[0][0]']                 \n",
            "                                                                                                  \n",
            " global_average_pooling2d (Glob  (None, 1408)        0           ['top_activation[0][0]']         \n",
            " alAveragePooling2D)                                                                              \n",
            "                                                                                                  \n",
            " dense (Dense)                  (None, 4)            5636        ['global_average_pooling2d[0][0]'\n",
            "                                                                 ]                                \n",
            "                                                                                                  \n",
            "==================================================================================================\n",
            "Total params: 7,774,205\n",
            "Trainable params: 7,706,630\n",
            "Non-trainable params: 67,575\n",
            "__________________________________________________________________________________________________\n"
          ]
        }
      ]
    },
    {
      "cell_type": "code",
      "source": [
        "reduce_lr = ReduceLROnPlateau(monitor='val_accuracy', factor=0.3, patience=2, min_denta=0.0001, mode='auto', verbose=1)\n",
        "tensorboard = TensorBoard(log_dir='logs')\n",
        "checkpoint = ModelCheckpoint(\"brain_tumor_classification.h5\", monitor='val_accuracy', save_best_only=True, mode='auto', verbose=1)"
      ],
      "metadata": {
        "id": "Q34LhqiFgwnG"
      },
      "execution_count": 46,
      "outputs": []
    },
    {
      "cell_type": "code",
      "source": [
        "history = model.fit(datagen.flow(X_train, y_train, batch_size=32),\n",
        "                              validation_data=(X_val, y_val), \n",
        "                              epochs=30, \n",
        "                              verbose=1,\n",
        "                            callbacks=[tensorboard, checkpoint, reduce_lr])"
      ],
      "metadata": {
        "colab": {
          "base_uri": "https://localhost:8080/"
        },
        "id": "vKeJMzGYOKHG",
        "outputId": "f7d8d843-0d61-4c17-abf3-b6cf70144c72"
      },
      "execution_count": 47,
      "outputs": [
        {
          "output_type": "stream",
          "name": "stdout",
          "text": [
            "Epoch 1/30\n",
            "275/275 [==============================] - ETA: 0s - loss: 0.5346 - accuracy: 0.7872\n",
            "Epoch 1: val_accuracy improved from -inf to 0.76412, saving model to brain_tumor_classification.h5\n",
            "275/275 [==============================] - 163s 485ms/step - loss: 0.5346 - accuracy: 0.7872 - val_loss: 0.5425 - val_accuracy: 0.7641 - lr: 0.0010\n",
            "Epoch 2/30\n",
            "275/275 [==============================] - ETA: 0s - loss: 0.3241 - accuracy: 0.8773\n",
            "Epoch 2: val_accuracy improved from 0.76412 to 0.84335, saving model to brain_tumor_classification.h5\n",
            "275/275 [==============================] - 128s 465ms/step - loss: 0.3241 - accuracy: 0.8773 - val_loss: 0.5290 - val_accuracy: 0.8434 - lr: 0.0010\n",
            "Epoch 3/30\n",
            "275/275 [==============================] - ETA: 0s - loss: 0.2239 - accuracy: 0.9202\n",
            "Epoch 3: val_accuracy improved from 0.84335 to 0.87796, saving model to brain_tumor_classification.h5\n",
            "275/275 [==============================] - 130s 472ms/step - loss: 0.2239 - accuracy: 0.9202 - val_loss: 0.3134 - val_accuracy: 0.8780 - lr: 0.0010\n",
            "Epoch 4/30\n",
            "275/275 [==============================] - ETA: 0s - loss: 0.1649 - accuracy: 0.9413\n",
            "Epoch 4: val_accuracy improved from 0.87796 to 0.92623, saving model to brain_tumor_classification.h5\n",
            "275/275 [==============================] - 128s 465ms/step - loss: 0.1649 - accuracy: 0.9413 - val_loss: 0.2035 - val_accuracy: 0.9262 - lr: 0.0010\n",
            "Epoch 5/30\n",
            "275/275 [==============================] - ETA: 0s - loss: 0.1278 - accuracy: 0.9564\n",
            "Epoch 5: val_accuracy did not improve from 0.92623\n",
            "275/275 [==============================] - 128s 467ms/step - loss: 0.1278 - accuracy: 0.9564 - val_loss: 0.4709 - val_accuracy: 0.8752 - lr: 0.0010\n",
            "Epoch 6/30\n",
            "275/275 [==============================] - ETA: 0s - loss: 0.0850 - accuracy: 0.9698\n",
            "Epoch 6: val_accuracy improved from 0.92623 to 0.93716, saving model to brain_tumor_classification.h5\n",
            "275/275 [==============================] - 130s 473ms/step - loss: 0.0850 - accuracy: 0.9698 - val_loss: 0.2322 - val_accuracy: 0.9372 - lr: 0.0010\n",
            "Epoch 7/30\n",
            "275/275 [==============================] - ETA: 0s - loss: 0.0609 - accuracy: 0.9788\n",
            "Epoch 7: val_accuracy did not improve from 0.93716\n",
            "275/275 [==============================] - 128s 466ms/step - loss: 0.0609 - accuracy: 0.9788 - val_loss: 0.2718 - val_accuracy: 0.9244 - lr: 0.0010\n",
            "Epoch 8/30\n",
            "275/275 [==============================] - ETA: 0s - loss: 0.0867 - accuracy: 0.9696\n",
            "Epoch 8: val_accuracy did not improve from 0.93716\n",
            "\n",
            "Epoch 8: ReduceLROnPlateau reducing learning rate to 0.0003000000142492354.\n",
            "275/275 [==============================] - 128s 467ms/step - loss: 0.0867 - accuracy: 0.9696 - val_loss: 0.3519 - val_accuracy: 0.8597 - lr: 0.0010\n",
            "Epoch 9/30\n",
            "275/275 [==============================] - ETA: 0s - loss: 0.0498 - accuracy: 0.9835\n",
            "Epoch 9: val_accuracy improved from 0.93716 to 0.95902, saving model to brain_tumor_classification.h5\n",
            "275/275 [==============================] - 129s 468ms/step - loss: 0.0498 - accuracy: 0.9835 - val_loss: 0.1234 - val_accuracy: 0.9590 - lr: 3.0000e-04\n",
            "Epoch 10/30\n",
            "275/275 [==============================] - ETA: 0s - loss: 0.0132 - accuracy: 0.9954\n",
            "Epoch 10: val_accuracy improved from 0.95902 to 0.96903, saving model to brain_tumor_classification.h5\n",
            "275/275 [==============================] - 127s 462ms/step - loss: 0.0132 - accuracy: 0.9954 - val_loss: 0.1290 - val_accuracy: 0.9690 - lr: 3.0000e-04\n",
            "Epoch 11/30\n",
            "275/275 [==============================] - ETA: 0s - loss: 0.0103 - accuracy: 0.9967\n",
            "Epoch 11: val_accuracy improved from 0.96903 to 0.96995, saving model to brain_tumor_classification.h5\n",
            "275/275 [==============================] - 127s 461ms/step - loss: 0.0103 - accuracy: 0.9967 - val_loss: 0.1138 - val_accuracy: 0.9699 - lr: 3.0000e-04\n",
            "Epoch 12/30\n",
            "275/275 [==============================] - ETA: 0s - loss: 0.0069 - accuracy: 0.9975\n",
            "Epoch 12: val_accuracy improved from 0.96995 to 0.97450, saving model to brain_tumor_classification.h5\n",
            "275/275 [==============================] - 129s 468ms/step - loss: 0.0069 - accuracy: 0.9975 - val_loss: 0.0934 - val_accuracy: 0.9745 - lr: 3.0000e-04\n",
            "Epoch 13/30\n",
            "275/275 [==============================] - ETA: 0s - loss: 0.0041 - accuracy: 0.9984\n",
            "Epoch 13: val_accuracy did not improve from 0.97450\n",
            "275/275 [==============================] - 125s 456ms/step - loss: 0.0041 - accuracy: 0.9984 - val_loss: 0.1016 - val_accuracy: 0.9727 - lr: 3.0000e-04\n",
            "Epoch 14/30\n",
            "275/275 [==============================] - ETA: 0s - loss: 0.0069 - accuracy: 0.9978\n",
            "Epoch 14: val_accuracy did not improve from 0.97450\n",
            "\n",
            "Epoch 14: ReduceLROnPlateau reducing learning rate to 9.000000427477062e-05.\n",
            "275/275 [==============================] - 127s 463ms/step - loss: 0.0069 - accuracy: 0.9978 - val_loss: 0.1004 - val_accuracy: 0.9736 - lr: 3.0000e-04\n",
            "Epoch 15/30\n",
            "275/275 [==============================] - ETA: 0s - loss: 0.0040 - accuracy: 0.9987\n",
            "Epoch 15: val_accuracy improved from 0.97450 to 0.97541, saving model to brain_tumor_classification.h5\n",
            "275/275 [==============================] - 127s 462ms/step - loss: 0.0040 - accuracy: 0.9987 - val_loss: 0.0990 - val_accuracy: 0.9754 - lr: 9.0000e-05\n",
            "Epoch 16/30\n",
            "275/275 [==============================] - ETA: 0s - loss: 0.0017 - accuracy: 0.9997\n",
            "Epoch 16: val_accuracy did not improve from 0.97541\n",
            "275/275 [==============================] - 127s 462ms/step - loss: 0.0017 - accuracy: 0.9997 - val_loss: 0.1057 - val_accuracy: 0.9745 - lr: 9.0000e-05\n",
            "Epoch 17/30\n",
            "275/275 [==============================] - ETA: 0s - loss: 0.0013 - accuracy: 0.9998\n",
            "Epoch 17: val_accuracy did not improve from 0.97541\n",
            "\n",
            "Epoch 17: ReduceLROnPlateau reducing learning rate to 2.700000040931627e-05.\n",
            "275/275 [==============================] - 125s 456ms/step - loss: 0.0013 - accuracy: 0.9998 - val_loss: 0.1064 - val_accuracy: 0.9745 - lr: 9.0000e-05\n",
            "Epoch 18/30\n",
            "275/275 [==============================] - ETA: 0s - loss: 0.0012 - accuracy: 0.9998\n",
            "Epoch 18: val_accuracy did not improve from 0.97541\n",
            "275/275 [==============================] - 125s 456ms/step - loss: 0.0012 - accuracy: 0.9998 - val_loss: 0.1052 - val_accuracy: 0.9736 - lr: 2.7000e-05\n",
            "Epoch 19/30\n",
            "275/275 [==============================] - ETA: 0s - loss: 0.0011 - accuracy: 0.9997\n",
            "Epoch 19: val_accuracy did not improve from 0.97541\n",
            "\n",
            "Epoch 19: ReduceLROnPlateau reducing learning rate to 8.100000013655517e-06.\n",
            "275/275 [==============================] - 125s 456ms/step - loss: 0.0011 - accuracy: 0.9997 - val_loss: 0.1025 - val_accuracy: 0.9745 - lr: 2.7000e-05\n",
            "Epoch 20/30\n",
            "275/275 [==============================] - ETA: 0s - loss: 0.0013 - accuracy: 0.9999\n",
            "Epoch 20: val_accuracy did not improve from 0.97541\n",
            "275/275 [==============================] - 126s 457ms/step - loss: 0.0013 - accuracy: 0.9999 - val_loss: 0.1020 - val_accuracy: 0.9736 - lr: 8.1000e-06\n",
            "Epoch 21/30\n",
            "275/275 [==============================] - ETA: 0s - loss: 0.0012 - accuracy: 0.9997\n",
            "Epoch 21: val_accuracy did not improve from 0.97541\n",
            "\n",
            "Epoch 21: ReduceLROnPlateau reducing learning rate to 2.429999949526973e-06.\n",
            "275/275 [==============================] - 125s 455ms/step - loss: 0.0012 - accuracy: 0.9997 - val_loss: 0.1020 - val_accuracy: 0.9745 - lr: 8.1000e-06\n",
            "Epoch 22/30\n",
            "275/275 [==============================] - ETA: 0s - loss: 9.4613e-04 - accuracy: 1.0000\n",
            "Epoch 22: val_accuracy did not improve from 0.97541\n",
            "275/275 [==============================] - 127s 461ms/step - loss: 9.4613e-04 - accuracy: 1.0000 - val_loss: 0.1019 - val_accuracy: 0.9754 - lr: 2.4300e-06\n",
            "Epoch 23/30\n",
            "275/275 [==============================] - ETA: 0s - loss: 9.6670e-04 - accuracy: 0.9999\n",
            "Epoch 23: val_accuracy did not improve from 0.97541\n",
            "\n",
            "Epoch 23: ReduceLROnPlateau reducing learning rate to 7.289999985005124e-07.\n",
            "275/275 [==============================] - 127s 463ms/step - loss: 9.6670e-04 - accuracy: 0.9999 - val_loss: 0.1015 - val_accuracy: 0.9754 - lr: 2.4300e-06\n",
            "Epoch 24/30\n",
            "275/275 [==============================] - ETA: 0s - loss: 0.0014 - accuracy: 0.9997\n",
            "Epoch 24: val_accuracy did not improve from 0.97541\n",
            "275/275 [==============================] - 126s 458ms/step - loss: 0.0014 - accuracy: 0.9997 - val_loss: 0.1019 - val_accuracy: 0.9754 - lr: 7.2900e-07\n",
            "Epoch 25/30\n",
            "275/275 [==============================] - ETA: 0s - loss: 0.0012 - accuracy: 0.9998\n",
            "Epoch 25: val_accuracy did not improve from 0.97541\n",
            "\n",
            "Epoch 25: ReduceLROnPlateau reducing learning rate to 2.1870000637136398e-07.\n",
            "275/275 [==============================] - 126s 456ms/step - loss: 0.0012 - accuracy: 0.9998 - val_loss: 0.1009 - val_accuracy: 0.9754 - lr: 7.2900e-07\n",
            "Epoch 26/30\n",
            "275/275 [==============================] - ETA: 0s - loss: 5.3801e-04 - accuracy: 1.0000\n",
            "Epoch 26: val_accuracy did not improve from 0.97541\n",
            "275/275 [==============================] - 128s 464ms/step - loss: 5.3801e-04 - accuracy: 1.0000 - val_loss: 0.1023 - val_accuracy: 0.9754 - lr: 2.1870e-07\n",
            "Epoch 27/30\n",
            "275/275 [==============================] - ETA: 0s - loss: 0.0011 - accuracy: 0.9997\n",
            "Epoch 27: val_accuracy did not improve from 0.97541\n",
            "\n",
            "Epoch 27: ReduceLROnPlateau reducing learning rate to 6.561000276406048e-08.\n",
            "275/275 [==============================] - 127s 462ms/step - loss: 0.0011 - accuracy: 0.9997 - val_loss: 0.1024 - val_accuracy: 0.9754 - lr: 2.1870e-07\n",
            "Epoch 28/30\n",
            "275/275 [==============================] - ETA: 0s - loss: 0.0011 - accuracy: 0.9997\n",
            "Epoch 28: val_accuracy did not improve from 0.97541\n",
            "275/275 [==============================] - 128s 464ms/step - loss: 0.0011 - accuracy: 0.9997 - val_loss: 0.1027 - val_accuracy: 0.9745 - lr: 6.5610e-08\n",
            "Epoch 29/30\n",
            "275/275 [==============================] - ETA: 0s - loss: 0.0015 - accuracy: 0.9993\n",
            "Epoch 29: val_accuracy improved from 0.97541 to 0.97632, saving model to brain_tumor_classification.h5\n",
            "275/275 [==============================] - 129s 469ms/step - loss: 0.0015 - accuracy: 0.9993 - val_loss: 0.1026 - val_accuracy: 0.9763 - lr: 6.5610e-08\n",
            "Epoch 30/30\n",
            "275/275 [==============================] - ETA: 0s - loss: 0.0012 - accuracy: 0.9997\n",
            "Epoch 30: val_accuracy did not improve from 0.97632\n",
            "275/275 [==============================] - 126s 457ms/step - loss: 0.0012 - accuracy: 0.9997 - val_loss: 0.1022 - val_accuracy: 0.9763 - lr: 6.5610e-08\n"
          ]
        }
      ]
    },
    {
      "cell_type": "code",
      "execution_count": 48,
      "metadata": {
        "id": "2HbGpG5D7gYE",
        "colab": {
          "base_uri": "https://localhost:8080/",
          "height": 265
        },
        "outputId": "31c7bd2c-1636-43ed-d043-4318c5d22604"
      },
      "outputs": [
        {
          "output_type": "display_data",
          "data": {
            "text/plain": [
              "<Figure size 432x288 with 2 Axes>"
            ],
            "image/png": "[encoded data removed]"
          },
          "metadata": {}
        }
      ],
      "source": [
        "# Plot the loss and accuracy curves for training and validation \n",
        "fig, ax = plt.subplots(2,1)\n",
        "ax[0].plot(history.history['loss'], color='b', label=\"Training loss\")\n",
        "ax[0].plot(history.history['val_loss'], color='r', label=\"validation loss\",axes =ax[0])\n",
        "legend = ax[0].legend(loc='best', shadow=True)\n",
        "\n",
        "ax[1].plot(history.history['accuracy'], color='b', label=\"Training accuracy\")\n",
        "ax[1].plot(history.history['val_accuracy'], color='r',label=\"Validation accuracy\")\n",
        "legend = ax[1].legend(loc='best', shadow=True)"
      ]
    },
    {
      "cell_type": "code",
      "execution_count": 49,
      "metadata": {
        "id": "yQsR-ZN77uoa"
      },
      "outputs": [],
      "source": [
        "new_model = tf.keras.models.load_model('./brain_tumor_classification.h5')"
      ]
    },
    {
      "cell_type": "code",
      "execution_count": 50,
      "metadata": {
        "id": "Ew_LZXib7mvq",
        "colab": {
          "base_uri": "https://localhost:8080/"
        },
        "outputId": "8c79ef17-1ee6-4871-ed0e-70ad3692680d"
      },
      "outputs": [
        {
          "output_type": "stream",
          "name": "stdout",
          "text": [
            "Accuracy on Valid set: 97.63%\n"
          ]
        }
      ],
      "source": [
        "pred = new_model.predict(X_val)\n",
        "pred = np.argmax(pred,axis=1)\n",
        "y_val_new = np.argmax(y_val,axis=1)\n",
        "print(\"Accuracy on Valid set: {:.2f}%\".format(np.sum(pred==y_val_new)/len(y_val_new)*100))"
      ]
    },
    {
      "cell_type": "code",
      "source": [
        "train_pred = new_model.predict(X_train)\n",
        "train_pred = np.argmax(train_pred,axis=1)\n",
        "y_train_ = np.argmax(y_train,axis=1)\n",
        "print(\"Accuracy on Train set: {:.2f}%\".format(np.sum(train_pred==y_train_)/len(y_train_)*100))"
      ],
      "metadata": {
        "id": "oshdwu9aQWdp",
        "colab": {
          "base_uri": "https://localhost:8080/"
        },
        "outputId": "e01e8d7d-7d6a-43db-ef4e-b4e2a6e89a15"
      },
      "execution_count": 51,
      "outputs": [
        {
          "output_type": "stream",
          "name": "stdout",
          "text": [
            "Accuracy on Train set: 100.00%\n"
          ]
        }
      ]
    },
    {
      "cell_type": "code",
      "source": [
        "test_pred = new_model.predict(X_test)\n",
        "test_pred = np.argmax(test_pred,axis=1)\n",
        "y_test_ = np.argmax(y_test,axis=1)\n",
        "print(\"Accuracy on Train set: {:.2f}%\".format(np.sum(test_pred==y_test_)/len(y_test_)*100))"
      ],
      "metadata": {
        "colab": {
          "base_uri": "https://localhost:8080/"
        },
        "id": "eYgUQ4Swq8tZ",
        "outputId": "ef902ae0-0307-464c-c05d-e4b27d7224e1"
      },
      "execution_count": 52,
      "outputs": [
        {
          "output_type": "stream",
          "name": "stdout",
          "text": [
            "Accuracy on Train set: 97.81%\n"
          ]
        }
      ]
    },
    {
      "cell_type": "code",
      "execution_count": 53,
      "metadata": {
        "id": "f2VeYY377hBu",
        "colab": {
          "base_uri": "https://localhost:8080/",
          "height": 221
        },
        "outputId": "92c29e9b-6955-4ca6-c358-7226dd77030d"
      },
      "outputs": [
        {
          "output_type": "display_data",
          "data": {
            "text/plain": [
              "<Figure size 360x72 with 1 Axes>"
            ],
            "image/png": "[encoded data removed]"
          },
          "metadata": {}
        },
        {
          "output_type": "display_data",
          "data": {
            "text/plain": [
              "<Figure size 360x72 with 1 Axes>"
            ],
            "image/png": "[encoded data removed]"
          },
          "metadata": {}
        },
        {
          "output_type": "display_data",
          "data": {
            "text/plain": [
              "<Figure size 360x72 with 1 Axes>"
            ],
            "image/png": "[encoded data removed]"
          },
          "metadata": {}
        }
      ],
      "source": [
        "colors_dark = [\"#1F1F1F\", \"#313131\", '#636363', '#AEAEAE', '#DADADA']\n",
        "colors_red = [\"#331313\", \"#582626\", '#9E1717', '#D35151', '#E9B4B4']\n",
        "colors_green = ['#01411C','#4B6F44','#4F7942','#74C365','#D0F0C0']\n",
        "\n",
        "sns.palplot(colors_dark)\n",
        "sns.palplot(colors_green)\n",
        "sns.palplot(colors_red)"
      ]
    },
    {
      "cell_type": "code",
      "execution_count": 54,
      "metadata": {
        "id": "A2B_ffO-7lzP",
        "colab": {
          "base_uri": "https://localhost:8080/",
          "height": 463
        },
        "outputId": "e46b6921-86e9-4cc0-9de3-28d5f3294db2"
      },
      "outputs": [
        {
          "output_type": "display_data",
          "data": {
            "text/plain": [
              "<Figure size 1008x504 with 2 Axes>"
            ],
            "image/png": "[encoded data removed]"
          },
          "metadata": {}
        }
      ],
      "source": [
        "fig,ax=plt.subplots(1,1,figsize=(14,7))\n",
        "sns.heatmap(confusion_matrix(y_test_, test_pred),ax=ax,xticklabels=labels,yticklabels=labels,annot=True,\n",
        "           cmap=colors_green[::-1],alpha=0.7,linewidths=2,linecolor=colors_dark[3])\n",
        "fig.text(s='Confusion Matrix',size=18,fontweight='bold',\n",
        "             fontname='monospace',color=colors_dark[1],y=0.92,x=0.28,alpha=0.8)\n",
        "\n",
        "plt.show()"
      ]
    },
    {
      "cell_type": "code",
      "source": [
        "print(classification_report(y_test_, test_pred))"
      ],
      "metadata": {
        "colab": {
          "base_uri": "https://localhost:8080/"
        },
        "id": "6JQGXqotFit5",
        "outputId": "1af076fa-2e36-4951-c879-3ed7ab04f370"
      },
      "execution_count": 55,
      "outputs": [
        {
          "output_type": "stream",
          "name": "stdout",
          "text": [
            "              precision    recall  f1-score   support\n",
            "\n",
            "           0       0.99      0.94      0.96       297\n",
            "           1       0.96      0.98      0.97       302\n",
            "           2       0.97      1.00      0.98       261\n",
            "           3       1.00      1.00      1.00       238\n",
            "\n",
            "    accuracy                           0.98      1098\n",
            "   macro avg       0.98      0.98      0.98      1098\n",
            "weighted avg       0.98      0.98      0.98      1098\n",
            "\n"
          ]
        }
      ]
    },
    {
      "cell_type": "code",
      "source": [
        "save_id=str ( 'EfficientNetB2_1'+ '.h5')\n",
        "save_dir='/content/drive/My Drive/brain-tumor'\n",
        "save_loc=os.path.join(save_dir, save_id)\n",
        "new_model.save(save_loc)"
      ],
      "metadata": {
        "id": "8DqO5nlVF883"
      },
      "execution_count": 56,
      "outputs": []
    }
  ],
  "metadata": {
    "colab": {
      "name": "Copy_of_Untitled01.ipynb",
      "provenance": [],
      "collapsed_sections": []
    },
    "kernelspec": {
      "display_name": "Python 3",
      "name": "python3"
    },
    "language_info": {
      "name": "python"
    },
    "accelerator": "GPU"
  },
  "nbformat": 4,
  "nbformat_minor": 0
}